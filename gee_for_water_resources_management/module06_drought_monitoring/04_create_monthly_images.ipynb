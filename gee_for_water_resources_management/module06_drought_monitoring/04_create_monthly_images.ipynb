{
 "cells": [
  {
   "cell_type": "code",
   "execution_count": 26,
   "metadata": {},
   "outputs": [
    {
     "data": {
      "text/html": [
       "\n",
       "            <style>\n",
       "                .geemap-dark {\n",
       "                    --jp-widgets-color: white;\n",
       "                    --jp-widgets-label-color: white;\n",
       "                    --jp-ui-font-color1: white;\n",
       "                    --jp-layout-color2: #454545;\n",
       "                    background-color: #383838;\n",
       "                }\n",
       "\n",
       "                .geemap-dark .jupyter-button {\n",
       "                    --jp-layout-color3: #383838;\n",
       "                }\n",
       "\n",
       "                .geemap-colab {\n",
       "                    background-color: var(--colab-primary-surface-color, white);\n",
       "                }\n",
       "\n",
       "                .geemap-colab .jupyter-button {\n",
       "                    --jp-layout-color3: var(--colab-primary-surface-color, white);\n",
       "                }\n",
       "            </style>\n",
       "            "
      ],
      "text/plain": [
       "<IPython.core.display.HTML object>"
      ]
     },
     "metadata": {},
     "output_type": "display_data"
    }
   ],
   "source": [
    "### import necessary libraries\n",
    "import os\n",
    "import ee\n",
    "import sys\n",
    "import json\n",
    "import geemap\n",
    "import sklearn\n",
    "import numpy as np\n",
    "import pandas as pd\n",
    "import geopandas as gpd\n",
    "from pprint import pprint\n",
    "import matplotlib.pyplot as plt\n",
    "\n",
    "# Sube un nivel en la estructura de directorios para llegar a la raíz del proyecto\n",
    "sys.path.insert(0, os.path.abspath(os.path.join(os.getcwd(), '..')))\n",
    "\n",
    "# Ahora puedes importar la función refined_lee\n",
    "from utils.refined_lee import refined_lee\n",
    "\n",
    "ee.Authenticate()\n",
    "ee.Initialize(project=\"ee-franciscofurey\")"
   ]
  },
  {
   "cell_type": "code",
   "execution_count": 27,
   "metadata": {},
   "outputs": [
    {
     "data": {
      "text/html": [
       "\n",
       "            <style>\n",
       "                .geemap-dark {\n",
       "                    --jp-widgets-color: white;\n",
       "                    --jp-widgets-label-color: white;\n",
       "                    --jp-ui-font-color1: white;\n",
       "                    --jp-layout-color2: #454545;\n",
       "                    background-color: #383838;\n",
       "                }\n",
       "\n",
       "                .geemap-dark .jupyter-button {\n",
       "                    --jp-layout-color3: #383838;\n",
       "                }\n",
       "\n",
       "                .geemap-colab {\n",
       "                    background-color: var(--colab-primary-surface-color, white);\n",
       "                }\n",
       "\n",
       "                .geemap-colab .jupyter-button {\n",
       "                    --jp-layout-color3: var(--colab-primary-surface-color, white);\n",
       "                }\n",
       "            </style>\n",
       "            "
      ],
      "text/plain": [
       "<IPython.core.display.HTML object>"
      ]
     },
     "metadata": {},
     "output_type": "display_data"
    }
   ],
   "source": [
    "# Import the MODIS/061/MOD13Q1 image collection\n",
    "modis = ee.ImageCollection(\"MODIS/061/MOD13Q1\")\n",
    "\n",
    "# Define the time of interest\n",
    "start_year = 2010\n",
    "end_year = 2024\n",
    "start_date = ee.Date.fromYMD(start_year, 1, 1)\n",
    "end_date = ee.Date.fromYMD(end_year, 12, 31)\n",
    "\n",
    "# Set visualization parameters.\n",
    "vis_params = {\n",
    "  'min': 0,\n",
    "  'max': 8000,\n",
    "  'palette': ['white', 'green']\n",
    "}\n",
    "\n",
    "# Set visualization parameters.\n",
    "vis_params_2 = {\n",
    "    'min': 0,  # Ajustado basado en el rango de salida\n",
    "    'max': 0.8,  # Ajustado basado en el rango de salida\n",
    "    'palette': ['white', 'red']\n",
    "}\n",
    "\n",
    "filtered = modis\\\n",
    "    .filterDate(start_date, end_date)\\\n",
    "\n",
    "# Get the 1 image from the collection\n",
    "image = filtered.first()\n",
    "\n",
    "map = geemap.Map()\n",
    "\n",
    "def bitwise_extract(input, from_bit, to_bit):\n",
    "    mask_size = ee.Number(1).add(to_bit).subtract(from_bit)\n",
    "    mask = ee.Number(1).leftShift(mask_size).subtract(1)\n",
    "    return input.rightShift(from_bit).bitwiseAnd(mask)\n",
    "\n",
    "def mask_snow_and_clouds(image):\n",
    "    summary_qa = image.select('SummaryQA')\n",
    "    # Select pixels which are less than or equals to 1 (0 or 1)\n",
    "    qa_mask = bitwise_extract(summary_qa, 0, 1).lte(1)\n",
    "    masked_image = image.updateMask(qa_mask)\n",
    "    return masked_image.copyProperties(image, ['system:index', 'system:time_start'])\n",
    "\n",
    "# Mask the image and select the 'NDVI' band before visualizing\n",
    "image_masked = ee.Image(mask_snow_and_clouds(image)).select('NDVI')\n",
    "\n",
    "masked_col = filtered.map(mask_snow_and_clouds)\n",
    "ndvi_col = masked_col.select('NDVI')\n",
    "\n",
    "# Función para escalar los valores NDVI y copiar las propiedades deseadas\n",
    "def scale_ndvi(image):\n",
    "    scaled = image.divide(10000)\n",
    "    return scaled.copyProperties(source=image, properties=['system:index', 'system:time_start'])\n",
    "\n",
    "# Aplicar la función a cada imagen en la colección\n",
    "ndvi_scaled = ndvi_col.map(scale_ndvi)\n",
    "\n",
    "# Extract 1 image from the ndv_scaled collection\n",
    "# Visualize it and add it into the map\n",
    "\n",
    "# Add NDVI to map\n",
    "map.addLayer(image.select('NDVI'), vis_params, 'MODIS NDVI')\n",
    "\n",
    "# map.addLayer(ndvi_scaled, vis_params_2, 'MODIS NDVI (Masked & Scaled)')\n",
    "\n",
    "# Filter the collection by date\n",
    "filtered = modis.filter(ee.Filter.date(start_date, end_date))\n",
    "\n",
    "def bitwise_extract(input, from_bit, to_bit):\n",
    "    \"\"\"\n",
    "    Masks bits of an image between specified bit positions.\n",
    "    \"\"\"\n",
    "    mask_size = ee.Number(1).add(to_bit).subtract(from_bit)\n",
    "    mask = ee.Number(1).leftShift(mask_size).subtract(1)\n",
    "    return input.rightShift(from_bit).bitwiseAnd(mask)\n",
    "\n",
    "def mask_snow_and_clouds(image):\n",
    "    \"\"\"\n",
    "    Masks snow and clouds based on the SummaryQA band.\n",
    "    \"\"\"\n",
    "    summary_qa = image.select('SummaryQA')\n",
    "    qa_mask = bitwise_extract(summary_qa, 0, 1).lte(1)\n",
    "    masked_image = image.updateMask(qa_mask)\n",
    "    return masked_image.copyProperties(image, ['system:index', 'system:time_start'])\n",
    "\n",
    "# Apply cloud and snow masking\n",
    "masked_col = filtered.map(mask_snow_and_clouds)\n",
    "\n",
    "ndvi_col = masked_col.select('NDVI')\n",
    "\n",
    "def scale_ndvi(image):\n",
    "    \"\"\"\n",
    "    Scales NDVI values from MODIS.\n",
    "    \"\"\"\n",
    "    scaled = image.divide(10000)\n",
    "    return scaled.copyProperties(image, ['system:index', 'system:time_start'])\n",
    "\n",
    "# Scale NDVI values\n",
    "ndvi_scaled = ndvi_col.map(scale_ndvi)"
   ]
  },
  {
   "cell_type": "code",
   "execution_count": 29,
   "metadata": {},
   "outputs": [
    {
     "data": {
      "text/html": [
       "\n",
       "            <style>\n",
       "                .geemap-dark {\n",
       "                    --jp-widgets-color: white;\n",
       "                    --jp-widgets-label-color: white;\n",
       "                    --jp-ui-font-color1: white;\n",
       "                    --jp-layout-color2: #454545;\n",
       "                    background-color: #383838;\n",
       "                }\n",
       "\n",
       "                .geemap-dark .jupyter-button {\n",
       "                    --jp-layout-color3: #383838;\n",
       "                }\n",
       "\n",
       "                .geemap-colab {\n",
       "                    background-color: var(--colab-primary-surface-color, white);\n",
       "                }\n",
       "\n",
       "                .geemap-colab .jupyter-button {\n",
       "                    --jp-layout-color3: var(--colab-primary-surface-color, white);\n",
       "                }\n",
       "            </style>\n",
       "            "
      ],
      "text/plain": [
       "<IPython.core.display.HTML object>"
      ]
     },
     "metadata": {},
     "output_type": "display_data"
    }
   ],
   "source": [
    "years = ee.List.sequence(start_year, end_year)\n",
    "months = ee.List.sequence(1, 12)\n",
    "\n",
    "def calculate_monthly_images(years, months, ndvi_scaled):\n",
    "    monthly_images = []\n",
    "    for y in years.getInfo():\n",
    "        for m in months.getInfo():\n",
    "            image = ndvi_scaled \\\n",
    "                .filter(ee.Filter.calendarRange(y, y, 'year')) \\\n",
    "                .filter(ee.Filter.calendarRange(m, m, 'month')).mean() \\\n",
    "                .set({\n",
    "                    'year': y,\n",
    "                    'month': m,\n",
    "                    'system:time_start': ee.Date.fromYMD(y, m, 1).millis()\n",
    "                })\n",
    "            monthly_images.append(image)\n",
    "    return monthly_images\n",
    "\n",
    "monthly_images = calculate_monthly_images(years, months, ndvi_scaled)\n",
    "\n",
    "\n",
    "# Create a collection\n",
    "\n",
    "monthly_images_col = ee.ImageCollection.fromImages(monthly_images)\n",
    "\n",
    "# Filter the collection for the image for May 2015 and display the image on the map\n",
    "image_2015_05 = monthly_images_col.filter(ee.Filter.eq('year', 2015)).filter(ee.Filter.eq('month', 5)).first()\n",
    "\n",
    "print(monthly_images_col.size().getInfo()) \n",
    "\n",
    "# Filter the collection for the image for May 2015 and display the image on the map\n",
    "image_2015_05 = monthly_images_col.filter(ee.Filter.eq('year', 2015)).filter(ee.Filter.eq('month', 5)).first()\n",
    "\n",
    "# Add the image to the map\n",
    "map.addLayer(image_2015_05, vis_params_2, 'May 2015 NDVI')"
   ]
  },
  {
   "cell_type": "markdown",
   "metadata": {},
   "source": []
  },
  {
   "cell_type": "code",
   "execution_count": 31,
   "metadata": {},
   "outputs": [
    {
     "data": {
      "text/html": [
       "\n",
       "            <style>\n",
       "                .geemap-dark {\n",
       "                    --jp-widgets-color: white;\n",
       "                    --jp-widgets-label-color: white;\n",
       "                    --jp-ui-font-color1: white;\n",
       "                    --jp-layout-color2: #454545;\n",
       "                    background-color: #383838;\n",
       "                }\n",
       "\n",
       "                .geemap-dark .jupyter-button {\n",
       "                    --jp-layout-color3: #383838;\n",
       "                }\n",
       "\n",
       "                .geemap-colab {\n",
       "                    background-color: var(--colab-primary-surface-color, white);\n",
       "                }\n",
       "\n",
       "                .geemap-colab .jupyter-button {\n",
       "                    --jp-layout-color3: var(--colab-primary-surface-color, white);\n",
       "                }\n",
       "            </style>\n",
       "            "
      ],
      "text/plain": [
       "<IPython.core.display.HTML object>"
      ]
     },
     "metadata": {},
     "output_type": "display_data"
    },
    {
     "data": {
      "application/vnd.jupyter.widget-view+json": {
       "model_id": "cf386f3642fb4b10927a3d6995230aba",
       "version_major": 2,
       "version_minor": 0
      },
      "text/plain": [
       "Map(center=[0, 0], controls=(WidgetControl(options=['position', 'transparent_bg'], widget=SearchDataGUI(childr…"
      ]
     },
     "execution_count": 31,
     "metadata": {},
     "output_type": "execute_result"
    }
   ],
   "source": [
    "map"
   ]
  },
  {
   "cell_type": "code",
   "execution_count": null,
   "metadata": {},
   "outputs": [],
   "source": []
  }
 ],
 "metadata": {
  "kernelspec": {
   "display_name": "spatial_thoughts",
   "language": "python",
   "name": "spatial_thoughts"
  },
  "language_info": {
   "codemirror_mode": {
    "name": "ipython",
    "version": 3
   },
   "file_extension": ".py",
   "mimetype": "text/x-python",
   "name": "python",
   "nbconvert_exporter": "python",
   "pygments_lexer": "ipython3",
   "version": "3.11.8"
  }
 },
 "nbformat": 4,
 "nbformat_minor": 2
}
