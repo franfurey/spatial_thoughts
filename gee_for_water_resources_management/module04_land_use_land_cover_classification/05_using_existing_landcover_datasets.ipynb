{
 "cells": [
  {
   "cell_type": "code",
   "execution_count": 1,
   "metadata": {},
   "outputs": [],
   "source": [
    "### import necessary libraries\n",
    "import ee\n",
    "import json\n",
    "import geemap\n",
    "import sklearn\n",
    "import numpy as np\n",
    "import pandas as pd\n",
    "import geopandas as gpd\n",
    "import matplotlib.pyplot as plt\n",
    "\n",
    "ee.Authenticate()\n",
    "ee.Initialize(project=\"ee-franciscofurey\")"
   ]
  },
  {
   "cell_type": "code",
   "execution_count": 4,
   "metadata": {},
   "outputs": [
    {
     "data": {
      "text/html": [
       "\n",
       "            <style>\n",
       "                .geemap-dark {\n",
       "                    --jp-widgets-color: white;\n",
       "                    --jp-widgets-label-color: white;\n",
       "                    --jp-ui-font-color1: white;\n",
       "                    --jp-layout-color2: #454545;\n",
       "                    background-color: #383838;\n",
       "                }\n",
       "                    \n",
       "                .geemap-dark .jupyter-button {\n",
       "                    --jp-layout-color3: #383838;\n",
       "                }\n",
       "                \n",
       "                .geemap-colab {\n",
       "                    background-color: var(--colab-primary-surface-color, white);\n",
       "                }\n",
       "                    \n",
       "                .geemap-colab .jupyter-button {\n",
       "                    --jp-layout-color3: var(--colab-primary-surface-color, white);\n",
       "                }\n",
       "            </style>\n",
       "            "
      ],
      "text/plain": [
       "<IPython.core.display.HTML object>"
      ]
     },
     "metadata": {},
     "output_type": "display_data"
    }
   ],
   "source": [
    "# Import the ee.ImageCollection(\"ESA/WorldCover/v100\")\n",
    "world_cover = ee.ImageCollection(\"ESA/WorldCover/v100\")"
   ]
  },
  {
   "cell_type": "code",
   "execution_count": 15,
   "metadata": {},
   "outputs": [
    {
     "data": {
      "text/html": [
       "\n",
       "            <style>\n",
       "                .geemap-dark {\n",
       "                    --jp-widgets-color: white;\n",
       "                    --jp-widgets-label-color: white;\n",
       "                    --jp-ui-font-color1: white;\n",
       "                    --jp-layout-color2: #454545;\n",
       "                    background-color: #383838;\n",
       "                }\n",
       "                    \n",
       "                .geemap-dark .jupyter-button {\n",
       "                    --jp-layout-color3: #383838;\n",
       "                }\n",
       "                \n",
       "                .geemap-colab {\n",
       "                    background-color: var(--colab-primary-surface-color, white);\n",
       "                }\n",
       "                    \n",
       "                .geemap-colab .jupyter-button {\n",
       "                    --jp-layout-color3: var(--colab-primary-surface-color, white);\n",
       "                }\n",
       "            </style>\n",
       "            "
      ],
      "text/plain": [
       "<IPython.core.display.HTML object>"
      ]
     },
     "metadata": {},
     "output_type": "display_data"
    },
    {
     "data": {
      "application/vnd.jupyter.widget-view+json": {
       "model_id": "0eb25c00f87d41ddae9a9b480760ac0b",
       "version_major": 2,
       "version_minor": 0
      },
      "text/plain": [
       "Map(center=[0, 0], controls=(WidgetControl(options=['position', 'transparent_bg'], widget=SearchDataGUI(childr…"
      ]
     },
     "execution_count": 15,
     "metadata": {},
     "output_type": "execute_result"
    }
   ],
   "source": [
    "m = geemap.Map()\n",
    "\n",
    "classification = ee.Image(world_cover.first())\n",
    "\n",
    "m.add_layer(classification, {}, 'Classification')\n",
    "\n",
    "# Select the water class\n",
    "water = classification.eq(80)\n",
    "\n",
    "m.addLayer(water, {'min':0, 'max':1, 'palette':['white','blue']}, 'Water')\n",
    "m"
   ]
  },
  {
   "cell_type": "code",
   "execution_count": 8,
   "metadata": {},
   "outputs": [
    {
     "data": {
      "text/html": [
       "\n",
       "            <style>\n",
       "                .geemap-dark {\n",
       "                    --jp-widgets-color: white;\n",
       "                    --jp-widgets-label-color: white;\n",
       "                    --jp-ui-font-color1: white;\n",
       "                    --jp-layout-color2: #454545;\n",
       "                    background-color: #383838;\n",
       "                }\n",
       "                    \n",
       "                .geemap-dark .jupyter-button {\n",
       "                    --jp-layout-color3: #383838;\n",
       "                }\n",
       "                \n",
       "                .geemap-colab {\n",
       "                    background-color: var(--colab-primary-surface-color, white);\n",
       "                }\n",
       "                    \n",
       "                .geemap-colab .jupyter-button {\n",
       "                    --jp-layout-color3: var(--colab-primary-surface-color, white);\n",
       "                }\n",
       "            </style>\n",
       "            "
      ],
      "text/plain": [
       "<IPython.core.display.HTML object>"
      ]
     },
     "metadata": {},
     "output_type": "display_data"
    },
    {
     "name": "stdout",
     "output_type": "stream",
     "text": [
      "{\n",
      "  \"type\": \"ImageCollection\",\n",
      "  \"bands\": [],\n",
      "  \"id\": \"ESA/WorldCover/v100\",\n",
      "  \"version\": 1685065671563344,\n",
      "  \"properties\": {\n",
      "    \"date_range\": [\n",
      "      1577836800000,\n",
      "      1609459200000\n",
      "    ],\n",
      "    \"period\": 0,\n",
      "    \"type_name\": \"ImageCollection\",\n",
      "    \"max_mirrored_version\": 1634633454597615,\n",
      "    \"keywords\": [\n",
      "      \"esa\",\n",
      "      \"landcover\",\n",
      "      \"landuse\",\n",
      "      \"sentinel1-derived\",\n",
      "      \"sentinel2-derived\"\n",
      "    ],\n",
      "    \"description\": \"<p>The European Space Agency (ESA) WorldCover 10 m 2020 product provides a\\nglobal land cover map for 2020 at 10 m resolution based on Sentinel-1 and\\nSentinel-2 data. The WorldCover product comes with 11 land cover classes and\\nhas been generated in the framework of the ESA WorldCover project, part of the\\n5th Earth Observation Envelope Programme (EOEP-5) of the European Space Agency.</p><p>See also:</p><ul><li><a href=\\\"https://esa-worldcover.org\\\">ESA WorldCover website</a></li><li><a href=\\\"https://esa-worldcover.org/en/data-access\\\">User Manual and Validation Report</a></li></ul><p><b>Provider: <a href=\\\"https://esa-worldcover.org/en\\\">ESA/VITO/Brockmann Consult/CS/GAMMA Remote Sensing/IIASA/WUR</a></b><br><p><b>Resolution</b><br>10 meters\\n</p><p><b>Bands</b><table class=\\\"eecat\\\"><tr><th scope=\\\"col\\\">Name</th><th scope=\\\"col\\\">Description</th></tr><tr><td>Map</td><td><p>Landcover class</p></td></tr></table><p><b>Terms of Use</b><br><p>CC-BY-4.0</p><p><b>Suggested citation(s)</b><ul><li><p>A publication is under preparation.</p></li></ul><style>\\n  table.eecat {\\n  border: 1px solid black;\\n  border-collapse: collapse;\\n  font-size: 13px;\\n  }\\n  table.eecat td, tr, th {\\n  text-align: left; vertical-align: top;\\n  border: 1px solid gray; padding: 3px;\\n  }\\n  td.nobreak { white-space: nowrap; }\\n</style>\",\n",
      "    \"provider_url\": \"https://esa-worldcover.org/en\",\n",
      "    \"title\": \"ESA WorldCover 10m v100\",\n",
      "    \"sample\": \"https://mw1.google.com/ges/dd/images/ESA_WorldCover_v100_sample.png\",\n",
      "    \"tags\": [\n",
      "      \"esa\",\n",
      "      \"landcover\",\n",
      "      \"landuse\",\n",
      "      \"sentinel1-derived\",\n",
      "      \"sentinel2-derived\"\n",
      "    ],\n",
      "    \"provider\": \"ESA/VITO/Brockmann Consult/CS/GAMMA Remote Sensing/IIASA/WUR\",\n",
      "    \"visualization_0_name\": \"Landcover\",\n",
      "    \"visualization_0_bands\": \"Map\"\n",
      "  },\n",
      "  \"features\": [\n",
      "    {\n",
      "      \"type\": \"Image\",\n",
      "      \"bands\": [\n",
      "        {\n",
      "          \"id\": \"Map\",\n",
      "          \"data_type\": {\n",
      "            \"type\": \"PixelType\",\n",
      "            \"precision\": \"int\",\n",
      "            \"min\": 0,\n",
      "            \"max\": 255\n",
      "          },\n",
      "          \"dimensions\": [\n",
      "            4320000,\n",
      "            1728000\n",
      "          ],\n",
      "          \"crs\": \"EPSG:4326\",\n",
      "          \"crs_transform\": [\n",
      "            8.333333333333333e-05,\n",
      "            0,\n",
      "            -180,\n",
      "            0,\n",
      "            -8.333333333333333e-05,\n",
      "            84\n",
      "          ]\n",
      "        }\n",
      "      ],\n",
      "      \"version\": 1685065671563344,\n",
      "      \"id\": \"ESA/WorldCover/v100/2020\",\n",
      "      \"properties\": {\n",
      "        \"system:time_start\": 1577836800000,\n",
      "        \"Map_class_names\": [\n",
      "          \"Tree cover\",\n",
      "          \"Shrubland\",\n",
      "          \"Grassland\",\n",
      "          \"Cropland\",\n",
      "          \"Built-up\",\n",
      "          \"Bare / sparse vegetation\",\n",
      "          \"Snow and ice\",\n",
      "          \"Permanent water bodies\",\n",
      "          \"Herbaceous wetland\",\n",
      "          \"Mangroves\",\n",
      "          \"Moss and lichen\"\n",
      "        ],\n",
      "        \"system:footprint\": {\n",
      "          \"type\": \"LinearRing\",\n",
      "          \"coordinates\": [\n",
      "            [\n",
      "              -180,\n",
      "              -90\n",
      "            ],\n",
      "            [\n",
      "              180,\n",
      "              -90\n",
      "            ],\n",
      "            [\n",
      "              180,\n",
      "              90\n",
      "            ],\n",
      "            [\n",
      "              -180,\n",
      "              90\n",
      "            ],\n",
      "            [\n",
      "              -180,\n",
      "              -90\n",
      "            ]\n",
      "          ]\n",
      "        },\n",
      "        \"system:time_end\": 1609459200000,\n",
      "        \"Map_class_palette\": [\n",
      "          \"006400\",\n",
      "          \"ffbb22\",\n",
      "          \"ffff4c\",\n",
      "          \"f096ff\",\n",
      "          \"fa0000\",\n",
      "          \"b4b4b4\",\n",
      "          \"f0f0f0\",\n",
      "          \"0064c8\",\n",
      "          \"0096a0\",\n",
      "          \"00cf75\",\n",
      "          \"fae6a0\"\n",
      "        ],\n",
      "        \"Map_class_values\": [\n",
      "          10,\n",
      "          20,\n",
      "          30,\n",
      "          40,\n",
      "          50,\n",
      "          60,\n",
      "          70,\n",
      "          80,\n",
      "          90,\n",
      "          95,\n",
      "          100\n",
      "        ],\n",
      "        \"system:asset_size\": 109355097577,\n",
      "        \"system:index\": \"2020\"\n",
      "      }\n",
      "    }\n",
      "  ]\n",
      "}\n"
     ]
    }
   ],
   "source": [
    "info = world_cover.getInfo()\n",
    "print(json.dumps(info, indent=2))"
   ]
  },
  {
   "cell_type": "code",
   "execution_count": null,
   "metadata": {},
   "outputs": [],
   "source": []
  }
 ],
 "metadata": {
  "kernelspec": {
   "display_name": "spatial_thoughts",
   "language": "python",
   "name": "spatial_thoughts"
  },
  "language_info": {
   "codemirror_mode": {
    "name": "ipython",
    "version": 3
   },
   "file_extension": ".py",
   "mimetype": "text/x-python",
   "name": "python",
   "nbconvert_exporter": "python",
   "pygments_lexer": "ipython3",
   "version": "3.9.5"
  }
 },
 "nbformat": 4,
 "nbformat_minor": 2
}
