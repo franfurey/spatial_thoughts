{
 "cells": [
  {
   "cell_type": "code",
   "execution_count": 1,
   "metadata": {},
   "outputs": [],
   "source": [
    "### import necessary libraries\n",
    "import ee\n",
    "import json\n",
    "import geemap\n",
    "import sklearn\n",
    "import numpy as np\n",
    "import pandas as pd\n",
    "import geopandas as gpd\n",
    "import matplotlib.pyplot as plt\n",
    "\n",
    "ee.Authenticate()\n",
    "ee.Initialize(project=\"ee-franciscofurey\")"
   ]
  },
  {
   "cell_type": "code",
   "execution_count": 2,
   "metadata": {},
   "outputs": [
    {
     "data": {
      "text/html": [
       "\n",
       "            <style>\n",
       "                .geemap-dark {\n",
       "                    --jp-widgets-color: white;\n",
       "                    --jp-widgets-label-color: white;\n",
       "                    --jp-ui-font-color1: white;\n",
       "                    --jp-layout-color2: #454545;\n",
       "                    background-color: #383838;\n",
       "                }\n",
       "                    \n",
       "                .geemap-dark .jupyter-button {\n",
       "                    --jp-layout-color3: #383838;\n",
       "                }\n",
       "                \n",
       "                .geemap-colab {\n",
       "                    background-color: var(--colab-primary-surface-color, white);\n",
       "                }\n",
       "                    \n",
       "                .geemap-colab .jupyter-button {\n",
       "                    --jp-layout-color3: var(--colab-primary-surface-color, white);\n",
       "                }\n",
       "            </style>\n",
       "            "
      ],
      "text/plain": [
       "<IPython.core.display.HTML object>"
      ]
     },
     "metadata": {},
     "output_type": "display_data"
    }
   ],
   "source": [
    "# Load Sentinel-2 image collection\n",
    "s2 = ee.ImageCollection('COPERNICUS/S2_SR_HARMONIZED')\n",
    "gcps = ee.FeatureCollection('projects/ee-franciscofurey/assets/cordoba-urban-water-vegetation')\n",
    "# Define the geometry\n",
    "geometry = ee.Geometry.Polygon([[\n",
    "        [-64.5153195400129,-31.29532373904396],\n",
    "        [-64.5153195400129,-31.476544788684357],\n",
    "        [-64.09462534855581,-31.476544788684357],\n",
    "        [-64.09462534855581,-31.29532373904396],\n",
    "        [-64.5153195400129,-31.29532373904396]\n",
    "    ]])\n",
    "\n",
    "# Define visualization parameters\n",
    "rgbVis = {\n",
    "  'min': 0.0,\n",
    "  'max': 3000,\n",
    "  'bands': ['B4', 'B3', 'B2']\n",
    "}\n",
    "\n",
    "# Filter the image collection\n",
    "filtered = s2 \\\n",
    "  .filter(ee.Filter.lt('CLOUDY_PIXEL_PERCENTAGE', 30)) \\\n",
    "  .filter(ee.Filter.date('2019-01-01', '2020-01-01')) \\\n",
    "  .filter(ee.Filter.bounds(geometry)) \\\n",
    "  .select('B.*')\n",
    "\n",
    "# Calculate the median composite\n",
    "composite = filtered.median().clip(geometry)"
   ]
  },
  {
   "cell_type": "code",
   "execution_count": 3,
   "metadata": {},
   "outputs": [
    {
     "data": {
      "text/html": [
       "\n",
       "            <style>\n",
       "                .geemap-dark {\n",
       "                    --jp-widgets-color: white;\n",
       "                    --jp-widgets-label-color: white;\n",
       "                    --jp-ui-font-color1: white;\n",
       "                    --jp-layout-color2: #454545;\n",
       "                    background-color: #383838;\n",
       "                }\n",
       "                    \n",
       "                .geemap-dark .jupyter-button {\n",
       "                    --jp-layout-color3: #383838;\n",
       "                }\n",
       "                \n",
       "                .geemap-colab {\n",
       "                    background-color: var(--colab-primary-surface-color, white);\n",
       "                }\n",
       "                    \n",
       "                .geemap-colab .jupyter-button {\n",
       "                    --jp-layout-color3: var(--colab-primary-surface-color, white);\n",
       "                }\n",
       "            </style>\n",
       "            "
      ],
      "text/plain": [
       "<IPython.core.display.HTML object>"
      ]
     },
     "metadata": {},
     "output_type": "display_data"
    },
    {
     "data": {
      "application/vnd.jupyter.widget-view+json": {
       "model_id": "817de2683d2d4a92b9b4a4e43fc388f5",
       "version_major": 2,
       "version_minor": 0
      },
      "text/plain": [
       "Map(center=[0, 0], controls=(WidgetControl(options=['position', 'transparent_bg'], widget=SearchDataGUI(childr…"
      ]
     },
     "execution_count": 3,
     "metadata": {},
     "output_type": "execute_result"
    },
    {
     "data": {
      "application/javascript": "\n        var code = IPython.notebook.insert_cell_below('code');\n        code.set_text(atob(\"YXJrYXZhdGh5ID0gYmFzaW4uZmlsdGVyKGVlLkZpbHRlci5lcSgnSFlCQVNfSUQnLCA0MDcxMTM5NjQwKSkKZ2VvbWV0cnkgPSBhcmthdmF0aHkuZ2VvbWV0cnkoKQptLmNlbnRlck9iamVjdChnZW9tZXRyeSkKCnMyID0gZWUuSW1hZ2VDb2xsZWN0aW9uKCdDT1BFUk5JQ1VTL1MyX1NSX0hBUk1PTklaRUQnKQpyZ2JWaXMgPSB7CiAgJ21pbic6IDAuMCwKICAnbWF4JzogMzAwMCwKICAnYmFuZHMnOiBbJ0I0JywgJ0IzJywgJ0IyJ10sCn0KCmZpbHRlcmVkID0gczIgXAouZmlsdGVyKGVlLkZpbHRlci5sdCgnQ0xPVURZX1BJWEVMX1BFUkNFTlRBR0UnLCAzMCkpIFwKICAuZmlsdGVyKGVlLkZpbHRlci5kYXRlKCcyMDE5LTAxLTAxJywgJzIwMjAtMDEtMDEnKSkgXAogIC5maWx0ZXIoZWUuRmlsdGVyLmJvdW5kcyhnZW9tZXRyeSkpIFwKICAuc2VsZWN0KCdCLionKQoKY29tcG9zaXRlID0gZmlsdGVyZWQubWVkaWFuKCkKCiMgRGlzcGxheSB0aGUgaW5wdXQgY29tcG9zaXRlLgptLmFkZExheWVyKGNvbXBvc2l0ZS5jbGlwKGdlb21ldHJ5KSwgcmdiVmlzLCAnaW1hZ2UnKQoKIyBPdmVybGF5IHRoZSBwb2ludCBvbiB0aGUgaW1hZ2UgdG8gZ2V0IHRyYWluaW5nIGRhdGEuCnRyYWluaW5nID0gY29tcG9zaXRlLnNhbXBsZVJlZ2lvbnMoewogICdjb2xsZWN0aW9uJzogZ2NwLAogICdwcm9wZXJ0aWVzJzogWydsYW5kY292ZXInXSwKICAnc2NhbGUnOiAxMCwKfSkKCiMgVHJhaW4gYSBjbGFzc2lmaWVyLgpjbGFzc2lmaWVyID0gZWUuQ2xhc3NpZmllci5zbWlsZVJhbmRvbUZvcmVzdCg1MCkgXAoudHJhaW4oewogICdmZWF0dXJlcyc6IHRyYWluaW5nLAogICdjbGFzc1Byb3BlcnR5JzogJ2xhbmRjb3ZlcicsCiAgJ2lucHV0UHJvcGVydGllcyc6IGNvbXBvc2l0ZS5iYW5kTmFtZXMoKQp9KQoKIyBDbGFzc2lmeSB0aGUgaW1hZ2UuCmNsYXNzaWZpZWQgPSBjb21wb3NpdGUuY2xhc3NpZnkoY2xhc3NpZmllcikKCnBhbGV0dGUgPSBbJyNjYzZkOGYnLCAnI2ZmYzEwNycsICcjMWU4OGU1JywgJyMwMDRkNDAnIF0KbS5hZGRMYXllcihjbGFzc2lmaWVkLmNsaXAoZ2VvbWV0cnkpLCB7J21pbic6IDAsICdtYXgnOiAzLCAncGFsZXR0ZSc6IHBhbGV0dGV9LCAnMjAxOScpCg==\"));\n    ",
      "text/plain": [
       "<IPython.core.display.Javascript object>"
      ]
     },
     "metadata": {},
     "output_type": "display_data"
    }
   ],
   "source": [
    "# Overlay the points on the image to get training data.\n",
    "training = composite.sampleRegions(\n",
    "    collection=gcps,\n",
    "    properties=['land_cover'],\n",
    "    scale=10,\n",
    "    tileScale= 16\n",
    ")\n",
    "\n",
    "# Train the classifier.\n",
    "classifier = ee.Classifier.smileRandomForest(numberOfTrees=50).train(\n",
    "    features=training,\n",
    "    classProperty='land_cover',\n",
    "    inputProperties=composite.bandNames()\n",
    ")\n",
    "\n",
    "# Classify the image.\n",
    "classified = composite.classify(classifier)\n",
    "\n",
    "# Select the Water class.\n",
    "water = classified.eq(2)\n",
    "\n",
    "palette = ['#ff0000', '#0000ff', '#008000']\n",
    "vis_params = {'min': 0,'max': 2,'palette': palette}\n",
    "water_vis = {'min': 0, 'max': 1, 'palette': ['white', 'blue']}\n",
    "\n",
    "# Display the input composite\n",
    "Map = geemap.Map()\n",
    "Map.centerObject(geometry)\n",
    "# And this would display the water class.\n",
    "Map.addLayer(classified.clip(geometry), vis_params, '2019')\n",
    "# Map.addLayer(water.clip(geometry), water_vis, 'Water')\n",
    "Map\n"
   ]
  },
  {
   "cell_type": "code",
   "execution_count": null,
   "metadata": {},
   "outputs": [],
   "source": []
  }
 ],
 "metadata": {
  "kernelspec": {
   "display_name": "spatial_thoughts",
   "language": "python",
   "name": "spatial_thoughts"
  },
  "language_info": {
   "codemirror_mode": {
    "name": "ipython",
    "version": 3
   },
   "file_extension": ".py",
   "mimetype": "text/x-python",
   "name": "python",
   "nbconvert_exporter": "python",
   "pygments_lexer": "ipython3",
   "version": "3.9.5"
  }
 },
 "nbformat": 4,
 "nbformat_minor": 2
}
