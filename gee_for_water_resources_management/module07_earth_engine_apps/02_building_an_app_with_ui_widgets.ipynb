{
 "cells": [
  {
   "cell_type": "code",
   "execution_count": 1,
   "metadata": {},
   "outputs": [],
   "source": [
    "### import necessary libraries\n",
    "import os\n",
    "import ee\n",
    "import sys\n",
    "import json\n",
    "import geemap\n",
    "import sklearn\n",
    "import numpy as np\n",
    "import pandas as pd\n",
    "import geopandas as gpd\n",
    "from pprint import pprint\n",
    "import matplotlib.pyplot as plt\n",
    "\n",
    "# Sube un nivel en la estructura de directorios para llegar a la raíz del proyecto\n",
    "sys.path.insert(0, os.path.abspath(os.path.join(os.getcwd(), '..')))\n",
    "\n",
    "# Ahora puedes importar la función refined_lee\n",
    "from utils.refined_lee import refined_lee\n",
    "\n",
    "ee.Authenticate()\n",
    "ee.Initialize(project=\"ee-franciscofurey\")"
   ]
  },
  {
   "cell_type": "code",
   "execution_count": null,
   "metadata": {},
   "outputs": [],
   "source": [
    "import tkinter as tk\n",
    "from tkinter import ttk\n",
    "\n",
    "# Simulación de datos para el dropdown\n",
    "nombres_de_admin2 = [\"Región A\", \"Región B\", \"Región C\"]\n",
    "\n",
    "class SurfaceWaterExplorerApp:\n",
    "    def __init__(self, root):\n",
    "        self.root = root\n",
    "        self.root.title(\"Surface Water Explorer\")\n",
    "        self.root.geometry(\"300x200\")  # Ancho de 300px y un alto aproximado\n",
    "        \n",
    "        # Creando el panel principal\n",
    "        self.panel_principal = ttk.Frame(self.root)\n",
    "        self.panel_principal.pack(expand=True, fill='both')\n",
    "        \n",
    "        # Añadiendo un título\n",
    "        self.titulo = ttk.Label(self.panel_principal, text=\"Surface Water Explorer\", font=(\"Arial\", 24))\n",
    "        self.titulo.pack(pady=20)\n",
    "        \n",
    "        # Añadiendo otro panel para el dropdown\n",
    "        self.panel_admin2 = ttk.Frame(self.panel_principal)\n",
    "        self.panel_admin2.pack(fill='x', expand=True)\n",
    "        \n",
    "        # Añadiendo el dropdown\n",
    "        self.dropdown_var = tk.StringVar()\n",
    "        self.dropdown = ttk.Combobox(self.panel_admin2, textvariable=self.dropdown_var, values=nombres_de_admin2)\n",
    "        self.dropdown.set(\"Seleccione una región\")\n",
    "        self.dropdown.pack()\n",
    "        \n",
    "        # Añadiendo el evento para cuando se selecciona una opción\n",
    "        self.dropdown.bind(\"<<ComboboxSelected>>\", self.mostrar_seleccion)\n",
    "\n",
    "    def mostrar_seleccion(self, event):\n",
    "        admin2_nombre = self.dropdown_var.get()\n",
    "        print(f\"Región seleccionada: {admin2_nombre}\")\n",
    "        # Aquí iría la lógica para actualizar la visualización basada en la selección,\n",
    "        # en un contexto real, esto implicaría interactuar con datos geoespaciales y potencialmente actualizar una visualización de mapa.\n",
    "        # Por simplicidad, solo estamos imprimiendo la selección.\n",
    "\n",
    "if __name__ == \"__main__\":\n",
    "    root = tk.Tk()\n",
    "    app = SurfaceWaterExplorerApp(root)\n",
    "    root.mainloop()\n",
    "\n"
   ]
  },
  {
   "cell_type": "code",
   "execution_count": null,
   "metadata": {},
   "outputs": [],
   "source": []
  }
 ],
 "metadata": {
  "kernelspec": {
   "display_name": "spatial_thoughts",
   "language": "python",
   "name": "spatial_thoughts"
  },
  "language_info": {
   "codemirror_mode": {
    "name": "ipython",
    "version": 3
   },
   "file_extension": ".py",
   "mimetype": "text/x-python",
   "name": "python",
   "nbconvert_exporter": "python",
   "pygments_lexer": "ipython3",
   "version": "3.11.8"
  }
 },
 "nbformat": 4,
 "nbformat_minor": 2
}
