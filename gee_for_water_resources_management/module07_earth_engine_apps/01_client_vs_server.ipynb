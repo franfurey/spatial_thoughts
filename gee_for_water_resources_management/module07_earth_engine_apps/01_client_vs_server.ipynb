{
 "cells": [
  {
   "cell_type": "code",
   "execution_count": 3,
   "metadata": {},
   "outputs": [
    {
     "data": {
      "text/html": [
       "\n",
       "            <style>\n",
       "                .geemap-dark {\n",
       "                    --jp-widgets-color: white;\n",
       "                    --jp-widgets-label-color: white;\n",
       "                    --jp-ui-font-color1: white;\n",
       "                    --jp-layout-color2: #454545;\n",
       "                    background-color: #383838;\n",
       "                }\n",
       "\n",
       "                .geemap-dark .jupyter-button {\n",
       "                    --jp-layout-color3: #383838;\n",
       "                }\n",
       "\n",
       "                .geemap-colab {\n",
       "                    background-color: var(--colab-primary-surface-color, white);\n",
       "                }\n",
       "\n",
       "                .geemap-colab .jupyter-button {\n",
       "                    --jp-layout-color3: var(--colab-primary-surface-color, white);\n",
       "                }\n",
       "            </style>\n",
       "            "
      ],
      "text/plain": [
       "<IPython.core.display.HTML object>"
      ]
     },
     "metadata": {},
     "output_type": "display_data"
    }
   ],
   "source": [
    "### import necessary libraries\n",
    "import os\n",
    "import ee\n",
    "import sys\n",
    "import json\n",
    "import geemap\n",
    "import sklearn\n",
    "import numpy as np\n",
    "import pandas as pd\n",
    "import geopandas as gpd\n",
    "from pprint import pprint\n",
    "import matplotlib.pyplot as plt\n",
    "\n",
    "# Sube un nivel en la estructura de directorios para llegar a la raíz del proyecto\n",
    "sys.path.insert(0, os.path.abspath(os.path.join(os.getcwd(), '..')))\n",
    "\n",
    "# Ahora puedes importar la función refined_lee\n",
    "from utils.refined_lee import refined_lee\n",
    "\n",
    "ee.Authenticate()\n",
    "ee.Initialize(project=\"ee-franciscofurey\")"
   ]
  },
  {
   "cell_type": "code",
   "execution_count": 10,
   "metadata": {},
   "outputs": [
    {
     "data": {
      "text/html": [
       "\n",
       "            <style>\n",
       "                .geemap-dark {\n",
       "                    --jp-widgets-color: white;\n",
       "                    --jp-widgets-label-color: white;\n",
       "                    --jp-ui-font-color1: white;\n",
       "                    --jp-layout-color2: #454545;\n",
       "                    background-color: #383838;\n",
       "                }\n",
       "\n",
       "                .geemap-dark .jupyter-button {\n",
       "                    --jp-layout-color3: #383838;\n",
       "                }\n",
       "\n",
       "                .geemap-colab {\n",
       "                    background-color: var(--colab-primary-surface-color, white);\n",
       "                }\n",
       "\n",
       "                .geemap-colab .jupyter-button {\n",
       "                    --jp-layout-color3: var(--colab-primary-surface-color, white);\n",
       "                }\n",
       "            </style>\n",
       "            "
      ],
      "text/plain": [
       "<IPython.core.display.HTML object>"
      ]
     },
     "metadata": {},
     "output_type": "display_data"
    },
    {
     "name": "stdout",
     "output_type": "stream",
     "text": [
      "<class 'str'>\n",
      "<class 'str'>\n"
     ]
    },
    {
     "ename": "AttributeError",
     "evalue": "'Number' object has no attribute 'evaluate'",
     "output_type": "error",
     "traceback": [
      "\u001b[0;31m---------------------------------------------------------------------------\u001b[0m",
      "\u001b[0;31mAttributeError\u001b[0m                            Traceback (most recent call last)",
      "Cell \u001b[0;32mIn[10], line 27\u001b[0m\n\u001b[1;32m     24\u001b[0m \u001b[38;5;28;01mdef\u001b[39;00m \u001b[38;5;21mmy_callback\u001b[39m(value):\n\u001b[1;32m     25\u001b[0m     \u001b[38;5;28mprint\u001b[39m(value)\n\u001b[0;32m---> 27\u001b[0m \u001b[43mnum_images\u001b[49m\u001b[38;5;241;43m.\u001b[39;49m\u001b[43mevaluate\u001b[49m(my_callback)\n",
      "\u001b[0;31mAttributeError\u001b[0m: 'Number' object has no attribute 'evaluate'"
     ]
    }
   ],
   "source": [
    "# Client vs. Server\n",
    "\n",
    "# User Interface elements - Map View, Drawing Tools, Buttons, Sliders etc.\n",
    "# are 'client-side'. They run in YOUR browser\n",
    "\n",
    "# Image Collections, feature collections, calculations on Earth Engine objects\n",
    "# etc. are 'server-side'. They run in Google's data center.\n",
    "\n",
    "# You cannot mix both these objects.\n",
    "\n",
    "date = '2020-01-01' # Client-side object\n",
    "print(type(date))\n",
    "ee_date = ee.Date.fromYMD(2020, 1, 1).format().getInfo() # Server-side object\n",
    "print(type(ee_date))\n",
    "# How to convert server-side values to client-side values?\n",
    "# Use getInfo() method\n",
    "\n",
    "# Never use getInfo(), evaluate() its prefer over getInfo()\n",
    "\n",
    "s2 = ee.ImageCollection('COPERNICUS/S2_SR_HARMONIZED')\n",
    "filtered = s2.filter(ee.Filter.date('2020-01-01', '2020-01-02'))\n",
    "num_images = filtered.size()\n",
    "\n",
    "def my_callback(value):\n",
    "    print(value)\n",
    "\n",
    "num_images.evaluate(my_callback)"
   ]
  },
  {
   "cell_type": "code",
   "execution_count": 11,
   "metadata": {},
   "outputs": [
    {
     "data": {
      "text/html": [
       "\n",
       "            <style>\n",
       "                .geemap-dark {\n",
       "                    --jp-widgets-color: white;\n",
       "                    --jp-widgets-label-color: white;\n",
       "                    --jp-ui-font-color1: white;\n",
       "                    --jp-layout-color2: #454545;\n",
       "                    background-color: #383838;\n",
       "                }\n",
       "\n",
       "                .geemap-dark .jupyter-button {\n",
       "                    --jp-layout-color3: #383838;\n",
       "                }\n",
       "\n",
       "                .geemap-colab {\n",
       "                    background-color: var(--colab-primary-surface-color, white);\n",
       "                }\n",
       "\n",
       "                .geemap-colab .jupyter-button {\n",
       "                    --jp-layout-color3: var(--colab-primary-surface-color, white);\n",
       "                }\n",
       "            </style>\n",
       "            "
      ],
      "text/plain": [
       "<IPython.core.display.HTML object>"
      ]
     },
     "metadata": {},
     "output_type": "display_data"
    },
    {
     "ename": "AttributeError",
     "evalue": "'Number' object has no attribute 'evaluate'",
     "output_type": "error",
     "traceback": [
      "\u001b[0;31m---------------------------------------------------------------------------\u001b[0m",
      "\u001b[0;31mAttributeError\u001b[0m                            Traceback (most recent call last)",
      "Cell \u001b[0;32mIn[11], line 9\u001b[0m\n\u001b[1;32m      6\u001b[0m     \u001b[38;5;28mprint\u001b[39m(value)\n\u001b[1;32m      8\u001b[0m \u001b[38;5;66;03m# Uso correcto de evaluate para obtener el valor de un objeto ee.Number de forma asíncrona.\u001b[39;00m\n\u001b[0;32m----> 9\u001b[0m \u001b[43mnum_images\u001b[49m\u001b[38;5;241;43m.\u001b[39;49m\u001b[43mevaluate\u001b[49m(callback\u001b[38;5;241m=\u001b[39mmy_callback)\n",
      "\u001b[0;31mAttributeError\u001b[0m: 'Number' object has no attribute 'evaluate'"
     ]
    }
   ],
   "source": [
    "s2 = ee.ImageCollection('COPERNICUS/S2_SR_HARMONIZED')\n",
    "filtered = s2.filter(ee.Filter.date('2020-01-01', '2020-01-02'))\n",
    "num_images = filtered.size()  # Esto sigue siendo un objeto del lado servidor de tipo ee.Number.\n",
    "\n",
    "def my_callback(value):\n",
    "    print(value)\n",
    "\n",
    "# Uso correcto de evaluate para obtener el valor de un objeto ee.Number de forma asíncrona.\n",
    "num_images.evaluate(callback=my_callback)"
   ]
  },
  {
   "cell_type": "code",
   "execution_count": null,
   "metadata": {},
   "outputs": [],
   "source": []
  }
 ],
 "metadata": {
  "kernelspec": {
   "display_name": "spatial_thoughts",
   "language": "python",
   "name": "spatial_thoughts"
  },
  "language_info": {
   "codemirror_mode": {
    "name": "ipython",
    "version": 3
   },
   "file_extension": ".py",
   "mimetype": "text/x-python",
   "name": "python",
   "nbconvert_exporter": "python",
   "pygments_lexer": "ipython3",
   "version": "3.11.8"
  }
 },
 "nbformat": 4,
 "nbformat_minor": 2
}
