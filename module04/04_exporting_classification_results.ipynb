{
 "cells": [
  {
   "cell_type": "code",
   "execution_count": 14,
   "metadata": {},
   "outputs": [
    {
     "data": {
      "text/html": [
       "\n",
       "            <style>\n",
       "                .geemap-dark {\n",
       "                    --jp-widgets-color: white;\n",
       "                    --jp-widgets-label-color: white;\n",
       "                    --jp-ui-font-color1: white;\n",
       "                    --jp-layout-color2: #454545;\n",
       "                    background-color: #383838;\n",
       "                }\n",
       "                    \n",
       "                .geemap-dark .jupyter-button {\n",
       "                    --jp-layout-color3: #383838;\n",
       "                }\n",
       "                \n",
       "                .geemap-colab {\n",
       "                    background-color: var(--colab-primary-surface-color, white);\n",
       "                }\n",
       "                    \n",
       "                .geemap-colab .jupyter-button {\n",
       "                    --jp-layout-color3: var(--colab-primary-surface-color, white);\n",
       "                }\n",
       "            </style>\n",
       "            "
      ],
      "text/plain": [
       "<IPython.core.display.HTML object>"
      ]
     },
     "metadata": {},
     "output_type": "display_data"
    }
   ],
   "source": [
    "### import necessary libraries\n",
    "import ee\n",
    "import json\n",
    "import geemap\n",
    "import sklearn\n",
    "import numpy as np\n",
    "import pandas as pd\n",
    "import geopandas as gpd\n",
    "import matplotlib.pyplot as plt\n",
    "\n",
    "ee.Authenticate()\n",
    "ee.Initialize(project=\"ee-franciscofurey\")"
   ]
  },
  {
   "cell_type": "code",
   "execution_count": 15,
   "metadata": {},
   "outputs": [
    {
     "data": {
      "text/html": [
       "\n",
       "            <style>\n",
       "                .geemap-dark {\n",
       "                    --jp-widgets-color: white;\n",
       "                    --jp-widgets-label-color: white;\n",
       "                    --jp-ui-font-color1: white;\n",
       "                    --jp-layout-color2: #454545;\n",
       "                    background-color: #383838;\n",
       "                }\n",
       "                    \n",
       "                .geemap-dark .jupyter-button {\n",
       "                    --jp-layout-color3: #383838;\n",
       "                }\n",
       "                \n",
       "                .geemap-colab {\n",
       "                    background-color: var(--colab-primary-surface-color, white);\n",
       "                }\n",
       "                    \n",
       "                .geemap-colab .jupyter-button {\n",
       "                    --jp-layout-color3: var(--colab-primary-surface-color, white);\n",
       "                }\n",
       "            </style>\n",
       "            "
      ],
      "text/plain": [
       "<IPython.core.display.HTML object>"
      ]
     },
     "metadata": {},
     "output_type": "display_data"
    }
   ],
   "source": [
    "basin = ee.FeatureCollection(\"WWF/HydroSHEDS/v1/Basins/hybas_7\")\n",
    "gcp = ee.FeatureCollection(\"users/ujavalgandhi/e2e/arkavathy_gcps\")\n",
    "s2 = ee.ImageCollection('COPERNICUS/S2_SR_HARMONIZED')\n",
    "alos = ee.Image('JAXA/ALOS/AW3D30/V2_2')"
   ]
  },
  {
   "cell_type": "code",
   "execution_count": 52,
   "metadata": {},
   "outputs": [
    {
     "data": {
      "text/html": [
       "\n",
       "            <style>\n",
       "                .geemap-dark {\n",
       "                    --jp-widgets-color: white;\n",
       "                    --jp-widgets-label-color: white;\n",
       "                    --jp-ui-font-color1: white;\n",
       "                    --jp-layout-color2: #454545;\n",
       "                    background-color: #383838;\n",
       "                }\n",
       "                    \n",
       "                .geemap-dark .jupyter-button {\n",
       "                    --jp-layout-color3: #383838;\n",
       "                }\n",
       "                \n",
       "                .geemap-colab {\n",
       "                    background-color: var(--colab-primary-surface-color, white);\n",
       "                }\n",
       "                    \n",
       "                .geemap-colab .jupyter-button {\n",
       "                    --jp-layout-color3: var(--colab-primary-surface-color, white);\n",
       "                }\n",
       "            </style>\n",
       "            "
      ],
      "text/plain": [
       "<IPython.core.display.HTML object>"
      ]
     },
     "metadata": {},
     "output_type": "display_data"
    }
   ],
   "source": [
    "arkavathy = basin.filter(ee.Filter.eq('HYBAS_ID', 4071139640))\n",
    "geometry = arkavathy.geometry()\n",
    "\n",
    "Map = geemap.Map()\n",
    "\n",
    "Map.centerObject(geometry)\n",
    "\n",
    "# Definir la visualización RGB.\n",
    "rgbVis = {\n",
    "    'min': 0.0,\n",
    "    'max': 3000,\n",
    "    'bands': ['B4', 'B3', 'B2'],\n",
    "}\n",
    "\n",
    "def mask_cloud_and_shadow_sr(image: ee.Image) -> ee.Image:\n",
    "    \"\"\"\n",
    "    Enmascara nubes y sombras en imágenes Sentinel-2 basándose en las bandas de probabilidad de nubes,\n",
    "    probabilidad de sombras y la clasificación de la cobertura del suelo (SCL).\n",
    "    \n",
    "    Parameters:\n",
    "    - image: ee.Image, imagen Sentinel-2 a enmascarar.\n",
    "    \n",
    "    Returns:\n",
    "    - ee.Image, imagen con máscara aplicada para nubes y sombras.\n",
    "    \"\"\"\n",
    "    cloud_prob = image.select('MSK_CLDPRB')\n",
    "    cloud_shadow_prob = image.select('MSK_SNWPRB')\n",
    "    cloud = cloud_prob.lt(10)  # Nubes con probabilidad menor al 10%\n",
    "    scl = image.select('SCL')  # Clasificación de la cobertura del suelo\n",
    "    shadow = cloud_shadow_prob.lt(3)  # Sombras con probabilidad menor al 3%\n",
    "    # No usamos 'MSK_CLDCIR' ya que no está en las bandas disponibles.\n",
    "    mask = cloud.And(shadow)  # Combinar máscaras de nubes y sombras\n",
    "    return image.updateMask(mask)\n",
    "\n",
    "\n",
    "# Filtrar la colección de imágenes por porcentaje de nubes y fecha.\n",
    "filtered = s2\\\n",
    "    .filter(ee.Filter.lt('CLOUDY_PIXEL_PERCENTAGE', 30))\\\n",
    "    .filter(ee.Filter.date('2019-01-01', '2020-01-01'))\\\n",
    "    .filter(ee.Filter.bounds(geometry))\\\n",
    "    .map(mask_cloud_and_shadow_sr)\\\n",
    "    .select('B.*')\n",
    "\n",
    "# Crear un compuesto usando la mediana.\n",
    "composite = filtered.median()\n",
    "\n",
    "Map.addLayer(composite.clip(geometry), rgbVis, 'image')\n",
    "\n",
    "def add_indices(image):\n",
    "    ndvi = image.normalizedDifference(['B8', 'B4']).rename('ndvi')\n",
    "    ndbi = image.normalizedDifference(['B11', 'B8']).rename('ndbi')\n",
    "    mndwi = image.normalizedDifference(['B3', 'B11']).rename('mndwi')\n",
    "    evi = image.expression(\n",
    "        '2.5 * ((NIR - RED) / (NIR + 6 * RED - 7.5 * BLUE + 1))', {\n",
    "            'NIR': image.select('B8'),\n",
    "            'RED': image.select('B4'),\n",
    "            'BLUE': image.select('B2')\n",
    "        }).rename('EVI')\n",
    "    bsi = image.expression(\n",
    "        '((SWIR1 + RED) - (NIR + BLUE)) / ((SWIR1 + RED) + (NIR + BLUE))', {\n",
    "            'SWIR1': image.select('B11'),\n",
    "            'RED': image.select('B4'),\n",
    "            'NIR': image.select('B8'),\n",
    "            'BLUE': image.select('B2'),\n",
    "        }).rename('BSI')\n",
    "    return image.addBands(ndvi).addBands(ndbi).addBands(mndwi).addBands(bsi).addBands(evi)\n",
    "\n",
    "composite = add_indices(composite)\n",
    "\n",
    "# Get elevation data and slope from alos\n",
    "elevation = alos.select('AVE_DSM').rename('elevation')\n",
    "slope = ee.Terrain.slope(alos.select('AVE_DSM')).rename('slope')\n",
    "\n",
    "composite = composite.addBands(elevation).addBands(slope)\n",
    "\n",
    "def normalize(image):\n",
    "    bands = image.bandNames()\n",
    "    min_dict = image.reduceRegion(\n",
    "        reducer=ee.Reducer.min(),\n",
    "        geometry=geometry,\n",
    "        scale=10,\n",
    "        maxPixels=1e9,\n",
    "        bestEffort=True,\n",
    "        tileScale=16,\n",
    "    )\n",
    "    max_dict = image.reduceRegion(\n",
    "        reducer=ee.Reducer.max(),\n",
    "        geometry=geometry,\n",
    "        scale=10,\n",
    "        maxPixels=1e9,\n",
    "        bestEffort=True,\n",
    "        tileScale=16,\n",
    "    )\n",
    "    mins = ee.Image.constant(min_dict.values(bands))\n",
    "    maxs = ee.Image.constant(max_dict.values(bands))\n",
    "    # Normalize the image\n",
    "    normalized = image.subtract(mins).divide(maxs.subtract(mins))\n",
    "    return normalized\n",
    "\n",
    "composite = normalize(composite)\n",
    "\n",
    "# Añadir una columna aleatoria y dividir los GCPs en conjuntos de entrenamiento y validación.\n",
    "gcp = gcp.randomColumn()\n",
    "trainingGcp = gcp.filter(ee.Filter.lt('random', 0.6))\n",
    "validationGcp = gcp.filter(ee.Filter.gte('random', 0.6))\n",
    "\n",
    "# Superponer los puntos sobre la imagen para obtener los datos de entrenamiento.\n",
    "training = composite.sampleRegions(\n",
    "    collection=trainingGcp,\n",
    "    properties=['landcover'],\n",
    "    scale=10,\n",
    "    tileScale=16\n",
    ")\n",
    "\n",
    "# Entrenar un clasificador.\n",
    "classifier = ee.Classifier.smileRandomForest(50).train(\n",
    "    features=training,\n",
    "    classProperty='landcover',\n",
    "    inputProperties=composite.bandNames()\n",
    ")\n",
    "\n",
    "# Clasificar la imagen.\n",
    "classified = composite.classify(classifier)\n",
    "\n",
    "classified_clipped = classified.clip(geometry)"
   ]
  },
  {
   "cell_type": "code",
   "execution_count": 53,
   "metadata": {},
   "outputs": [
    {
     "data": {
      "text/html": [
       "\n",
       "            <style>\n",
       "                .geemap-dark {\n",
       "                    --jp-widgets-color: white;\n",
       "                    --jp-widgets-label-color: white;\n",
       "                    --jp-ui-font-color1: white;\n",
       "                    --jp-layout-color2: #454545;\n",
       "                    background-color: #383838;\n",
       "                }\n",
       "                    \n",
       "                .geemap-dark .jupyter-button {\n",
       "                    --jp-layout-color3: #383838;\n",
       "                }\n",
       "                \n",
       "                .geemap-colab {\n",
       "                    background-color: var(--colab-primary-surface-color, white);\n",
       "                }\n",
       "                    \n",
       "                .geemap-colab .jupyter-button {\n",
       "                    --jp-layout-color3: var(--colab-primary-surface-color, white);\n",
       "                }\n",
       "            </style>\n",
       "            "
      ],
      "text/plain": [
       "<IPython.core.display.HTML object>"
      ]
     },
     "metadata": {},
     "output_type": "display_data"
    }
   ],
   "source": [
    "# Exercise\n",
    "# Use the Export.image.toAsset() function to export the\n",
    "# classified image as a Earth Engine Asset.\n",
    "#\n",
    "# This will allow you to import the classified image in another script\n",
    "# without running the whole classification workflow.\n",
    "#\n",
    "# Hint: For images with discrete pixel values, we must set the\n",
    "# pyramidingPolicy to 'mode'.\n",
    "# The pyramidingPolicy parameter should a dictionary specifying\n",
    "# the policy for each band. A simpler way to specify it for all\n",
    "# bands is to use {'default': 'mode'}\n",
    "#\n",
    "# assetId should be specified as a string\n",
    "\n",
    "# Inicia la tarea de exportación de la imagen clasificada a un activo de Earth Engine\n",
    "export_task = ee.batch.Export.image.toAsset(\n",
    "    image=classified_clipped,  # La imagen Earth Engine clasificada\n",
    "    description='classified_image',  # Descripción del trabajo de exportación\n",
    "    assetId='projects/ee-franciscofurey/assets/classified_image', # ID del activo para la imagen exportada\n",
    "    pyramidingPolicy={'.default': 'mode'}  # Política de piramidación para la exportación\n",
    ")\n",
    "\n",
    "export_task.start()  # Empieza la tarea de exportación"
   ]
  },
  {
   "cell_type": "code",
   "execution_count": 58,
   "metadata": {},
   "outputs": [
    {
     "data": {
      "text/html": [
       "\n",
       "            <style>\n",
       "                .geemap-dark {\n",
       "                    --jp-widgets-color: white;\n",
       "                    --jp-widgets-label-color: white;\n",
       "                    --jp-ui-font-color1: white;\n",
       "                    --jp-layout-color2: #454545;\n",
       "                    background-color: #383838;\n",
       "                }\n",
       "                    \n",
       "                .geemap-dark .jupyter-button {\n",
       "                    --jp-layout-color3: #383838;\n",
       "                }\n",
       "                \n",
       "                .geemap-colab {\n",
       "                    background-color: var(--colab-primary-surface-color, white);\n",
       "                }\n",
       "                    \n",
       "                .geemap-colab .jupyter-button {\n",
       "                    --jp-layout-color3: var(--colab-primary-surface-color, white);\n",
       "                }\n",
       "            </style>\n",
       "            "
      ],
      "text/plain": [
       "<IPython.core.display.HTML object>"
      ]
     },
     "metadata": {},
     "output_type": "display_data"
    },
    {
     "name": "stdout",
     "output_type": "stream",
     "text": [
      "Task Status: \n",
      "{\n",
      "  \"state\": \"COMPLETED\",\n",
      "  \"description\": \"classified_image\",\n",
      "  \"creation_timestamp_ms\": 1708333299875,\n",
      "  \"update_timestamp_ms\": 1708333321688,\n",
      "  \"start_timestamp_ms\": 1708333301899,\n",
      "  \"task_type\": \"EXPORT_IMAGE\",\n",
      "  \"destination_uris\": [\n",
      "    \"https://code.earthengine.google.com/?asset=projects/ee-franciscofurey/assets/classified_image\"\n",
      "  ],\n",
      "  \"attempt\": 1,\n",
      "  \"batch_eecu_usage_seconds\": 260.19866943359375,\n",
      "  \"id\": \"HHDT2HD6N4FRWCJ4AUZFFLT7\",\n",
      "  \"name\": \"projects/ee-franciscofurey/operations/HHDT2HD6N4FRWCJ4AUZFFLT7\"\n",
      "}\n"
     ]
    }
   ],
   "source": [
    "info = export_task.status()\n",
    "print('Task Status: ')\n",
    "print(json.dumps(info, indent=2))"
   ]
  },
  {
   "cell_type": "markdown",
   "metadata": {},
   "source": []
  },
  {
   "cell_type": "code",
   "execution_count": 36,
   "metadata": {},
   "outputs": [
    {
     "data": {
      "text/html": [
       "\n",
       "            <style>\n",
       "                .geemap-dark {\n",
       "                    --jp-widgets-color: white;\n",
       "                    --jp-widgets-label-color: white;\n",
       "                    --jp-ui-font-color1: white;\n",
       "                    --jp-layout-color2: #454545;\n",
       "                    background-color: #383838;\n",
       "                }\n",
       "                    \n",
       "                .geemap-dark .jupyter-button {\n",
       "                    --jp-layout-color3: #383838;\n",
       "                }\n",
       "                \n",
       "                .geemap-colab {\n",
       "                    background-color: var(--colab-primary-surface-color, white);\n",
       "                }\n",
       "                    \n",
       "                .geemap-colab .jupyter-button {\n",
       "                    --jp-layout-color3: var(--colab-primary-surface-color, white);\n",
       "                }\n",
       "            </style>\n",
       "            "
      ],
      "text/plain": [
       "<IPython.core.display.HTML object>"
      ]
     },
     "metadata": {},
     "output_type": "display_data"
    }
   ],
   "source": [
    "#**************************************************************************\n",
    "# Evaluación de la Precisión\n",
    "#**************************************************************************\n",
    "\n",
    "# Usar el mapa de clasificación para evaluar la precisión usando la fracción de validación del conjunto de entrenamiento.\n",
    "test = classified.sampleRegions(\n",
    "    collection=validationGcp,\n",
    "    properties=['landcover'],\n",
    "    scale=10,\n",
    "    tileScale=16\n",
    ")\n",
    "\n",
    "testConfusionMatrix = test.errorMatrix('landcover', 'classification')\n",
    "accuracy = testConfusionMatrix.accuracy()\n",
    "\n",
    "fc = ee.FeatureCollection([\n",
    "    ee.Feature(\n",
    "        None,\n",
    "        {\n",
    "            'accuracy': accuracy,\n",
    "            'confusion_matrix': testConfusionMatrix.array()\n",
    "            }\n",
    "    )\n",
    "    ])\n",
    "\n",
    "# Export the FeatureCollection\n",
    "task = ee.batch.Export.table.toDrive(\n",
    "    collection=fc,\n",
    "    description='accuracy_export',\n",
    "    folder='earth_engine',\n",
    "    fileNamePrefix='accuracy_export',\n",
    "    fileFormat='CSV'\n",
    ")\n",
    "task.start()"
   ]
  },
  {
   "cell_type": "code",
   "execution_count": 40,
   "metadata": {},
   "outputs": [
    {
     "data": {
      "text/html": [
       "\n",
       "            <style>\n",
       "                .geemap-dark {\n",
       "                    --jp-widgets-color: white;\n",
       "                    --jp-widgets-label-color: white;\n",
       "                    --jp-ui-font-color1: white;\n",
       "                    --jp-layout-color2: #454545;\n",
       "                    background-color: #383838;\n",
       "                }\n",
       "                    \n",
       "                .geemap-dark .jupyter-button {\n",
       "                    --jp-layout-color3: #383838;\n",
       "                }\n",
       "                \n",
       "                .geemap-colab {\n",
       "                    background-color: var(--colab-primary-surface-color, white);\n",
       "                }\n",
       "                    \n",
       "                .geemap-colab .jupyter-button {\n",
       "                    --jp-layout-color3: var(--colab-primary-surface-color, white);\n",
       "                }\n",
       "            </style>\n",
       "            "
      ],
      "text/plain": [
       "<IPython.core.display.HTML object>"
      ]
     },
     "metadata": {},
     "output_type": "display_data"
    },
    {
     "name": "stdout",
     "output_type": "stream",
     "text": [
      "Task Status: \n",
      "{\n",
      "  \"state\": \"COMPLETED\",\n",
      "  \"description\": \"accuracy_export\",\n",
      "  \"creation_timestamp_ms\": 1708331388612,\n",
      "  \"update_timestamp_ms\": 1708331451801,\n",
      "  \"start_timestamp_ms\": 1708331392272,\n",
      "  \"task_type\": \"EXPORT_FEATURES\",\n",
      "  \"destination_uris\": [\n",
      "    \"https://drive.google.com/#folders/1l9uD9StnghW2_V15JJ-1Akk6HoYy9g3i\"\n",
      "  ],\n",
      "  \"attempt\": 1,\n",
      "  \"batch_eecu_usage_seconds\": 52561.55859375,\n",
      "  \"id\": \"VWQDOL3QJCUNK7SX3EJLDUNT\",\n",
      "  \"name\": \"projects/ee-franciscofurey/operations/VWQDOL3QJCUNK7SX3EJLDUNT\"\n",
      "}\n"
     ]
    }
   ],
   "source": [
    "info = task.status()\n",
    "print('Task Status: ')\n",
    "print(json.dumps(info, indent=2))"
   ]
  },
  {
   "cell_type": "code",
   "execution_count": 10,
   "metadata": {},
   "outputs": [
    {
     "data": {
      "text/html": [
       "\n",
       "            <style>\n",
       "                .geemap-dark {\n",
       "                    --jp-widgets-color: white;\n",
       "                    --jp-widgets-label-color: white;\n",
       "                    --jp-ui-font-color1: white;\n",
       "                    --jp-layout-color2: #454545;\n",
       "                    background-color: #383838;\n",
       "                }\n",
       "                    \n",
       "                .geemap-dark .jupyter-button {\n",
       "                    --jp-layout-color3: #383838;\n",
       "                }\n",
       "                \n",
       "                .geemap-colab {\n",
       "                    background-color: var(--colab-primary-surface-color, white);\n",
       "                }\n",
       "                    \n",
       "                .geemap-colab .jupyter-button {\n",
       "                    --jp-layout-color3: var(--colab-primary-surface-color, white);\n",
       "                }\n",
       "            </style>\n",
       "            "
      ],
      "text/plain": [
       "<IPython.core.display.HTML object>"
      ]
     },
     "metadata": {},
     "output_type": "display_data"
    }
   ],
   "source": [
    "# Exporting Classification results\n",
    "# Export classified Image\n",
    "task = ee.batch.Export.image.toDrive(\n",
    "    image=classified,\n",
    "    description='Classified_Image',\n",
    "    folder='earth_engine',\n",
    "    fileNamePrefix='classified',\n",
    "    region=geometry,\n",
    "    scale=10,\n",
    "    maxPixels=1e10,\n",
    "    fileFormat='GeoTIFF'\n",
    ")\n",
    "\n",
    "task.start()"
   ]
  },
  {
   "cell_type": "code",
   "execution_count": 12,
   "metadata": {},
   "outputs": [
    {
     "data": {
      "text/html": [
       "\n",
       "            <style>\n",
       "                .geemap-dark {\n",
       "                    --jp-widgets-color: white;\n",
       "                    --jp-widgets-label-color: white;\n",
       "                    --jp-ui-font-color1: white;\n",
       "                    --jp-layout-color2: #454545;\n",
       "                    background-color: #383838;\n",
       "                }\n",
       "                    \n",
       "                .geemap-dark .jupyter-button {\n",
       "                    --jp-layout-color3: #383838;\n",
       "                }\n",
       "                \n",
       "                .geemap-colab {\n",
       "                    background-color: var(--colab-primary-surface-color, white);\n",
       "                }\n",
       "                    \n",
       "                .geemap-colab .jupyter-button {\n",
       "                    --jp-layout-color3: var(--colab-primary-surface-color, white);\n",
       "                }\n",
       "            </style>\n",
       "            "
      ],
      "text/plain": [
       "<IPython.core.display.HTML object>"
      ]
     },
     "metadata": {},
     "output_type": "display_data"
    },
    {
     "name": "stdout",
     "output_type": "stream",
     "text": [
      "Task Status: \n",
      "{\n",
      "  \"state\": \"COMPLETED\",\n",
      "  \"description\": \"Classified_Image\",\n",
      "  \"creation_timestamp_ms\": 1708267314418,\n",
      "  \"update_timestamp_ms\": 1708267861687,\n",
      "  \"start_timestamp_ms\": 1708267315472,\n",
      "  \"task_type\": \"EXPORT_IMAGE\",\n",
      "  \"destination_uris\": [\n",
      "    \"https://drive.google.com/#folders/1l9uD9StnghW2_V15JJ-1Akk6HoYy9g3i\"\n",
      "  ],\n",
      "  \"attempt\": 1,\n",
      "  \"batch_eecu_usage_seconds\": 68196.28125,\n",
      "  \"id\": \"SXEX42RKYOEM3BZDTGEYG2BI\",\n",
      "  \"name\": \"projects/ee-franciscofurey/operations/SXEX42RKYOEM3BZDTGEYG2BI\"\n",
      "}\n"
     ]
    }
   ],
   "source": [
    "info = task.status()\n",
    "print('Task Status: ')\n",
    "print(json.dumps(info, indent=2))"
   ]
  },
  {
   "cell_type": "code",
   "execution_count": null,
   "metadata": {},
   "outputs": [],
   "source": []
  }
 ],
 "metadata": {
  "kernelspec": {
   "display_name": "spatial_thoughts",
   "language": "python",
   "name": "spatial_thoughts"
  },
  "language_info": {
   "codemirror_mode": {
    "name": "ipython",
    "version": 3
   },
   "file_extension": ".py",
   "mimetype": "text/x-python",
   "name": "python",
   "nbconvert_exporter": "python",
   "pygments_lexer": "ipython3",
   "version": "3.9.5"
  }
 },
 "nbformat": 4,
 "nbformat_minor": 2
}
