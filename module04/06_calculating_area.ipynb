{
 "cells": [
  {
   "cell_type": "code",
   "execution_count": 1,
   "metadata": {},
   "outputs": [],
   "source": [
    "### import necessary libraries\n",
    "import ee\n",
    "import json\n",
    "import geemap\n",
    "import sklearn\n",
    "import numpy as np\n",
    "import pandas as pd\n",
    "import geopandas as gpd\n",
    "import matplotlib.pyplot as plt\n",
    "\n",
    "ee.Authenticate()\n",
    "ee.Initialize(project=\"ee-franciscofurey\")"
   ]
  },
  {
   "cell_type": "code",
   "execution_count": 13,
   "metadata": {},
   "outputs": [
    {
     "data": {
      "text/html": [
       "\n",
       "            <style>\n",
       "                .geemap-dark {\n",
       "                    --jp-widgets-color: white;\n",
       "                    --jp-widgets-label-color: white;\n",
       "                    --jp-ui-font-color1: white;\n",
       "                    --jp-layout-color2: #454545;\n",
       "                    background-color: #383838;\n",
       "                }\n",
       "                    \n",
       "                .geemap-dark .jupyter-button {\n",
       "                    --jp-layout-color3: #383838;\n",
       "                }\n",
       "                \n",
       "                .geemap-colab {\n",
       "                    background-color: var(--colab-primary-surface-color, white);\n",
       "                }\n",
       "                    \n",
       "                .geemap-colab .jupyter-button {\n",
       "                    --jp-layout-color3: var(--colab-primary-surface-color, white);\n",
       "                }\n",
       "            </style>\n",
       "            "
      ],
      "text/plain": [
       "<IPython.core.display.HTML object>"
      ]
     },
     "metadata": {},
     "output_type": "display_data"
    },
    {
     "name": "stdout",
     "output_type": "stream",
     "text": [
      "Basin Area: 4178.032796336794\n",
      "Basin Area EPSG:32643 4166.064852187439\n",
      "Water Area: {'Map': 19.114295885594963}\n"
     ]
    }
   ],
   "source": [
    "dataset = ee.ImageCollection(\"ESA/WorldCover/v100\").first()\n",
    "\n",
    "# Select a Basin\n",
    "basin = ee.FeatureCollection(\"WWF/HydroSHEDS/v1/Basins/hybas_7\")\n",
    "selected = basin.filter(ee.Filter.eq('HYBAS_ID', 4071139640))\n",
    "geometry = selected.geometry()\n",
    "\n",
    "Map = geemap.Map()\n",
    "\n",
    "Map.centerObject(geometry)\n",
    "# Add the classified image\n",
    "classification = dataset.select('Map').clip(geometry)\n",
    "\n",
    "Map.addLayer(classification, {}, 'WorldCover Classification')\n",
    "\n",
    "# Let's calculate area\n",
    "# Vector Area Calculation\n",
    "# geometry -> Area()\n",
    "basin_area = geometry.area().divide(1e6)\n",
    "print('Basin Area:', basin_area.getInfo())\n",
    "\n",
    "# Compare area Calculations from other software you must specify a projection\n",
    "\n",
    "basin_area = geometry.area(\n",
    "    maxError=0.1, \n",
    "    proj='EPSG:32643'\n",
    "    ).divide(1e6)\n",
    "print('Basin Area EPSG:32643', basin_area.getInfo())\n",
    "\n",
    "water = classification.eq(80)\n",
    "\n",
    "# Calculate the area of water\n",
    "# Lets compute area of each pixel\n",
    "water_area = water.multiply(ee.Image.pixelArea()).divide(1e6)\n",
    "\n",
    "# Sum the area of all the pixels\n",
    "\n",
    "water_area = water_area.reduceRegion(\n",
    "    reducer=ee.Reducer.sum(),\n",
    "    geometry=geometry,\n",
    "    scale=10,\n",
    "    maxPixels=1e10,\n",
    "    tileScale=16\n",
    "    )\n",
    "\n",
    "print('Water Area:', water_area.getInfo())"
   ]
  },
  {
   "cell_type": "code",
   "execution_count": null,
   "metadata": {},
   "outputs": [],
   "source": []
  }
 ],
 "metadata": {
  "kernelspec": {
   "display_name": "spatial_thoughts",
   "language": "python",
   "name": "spatial_thoughts"
  },
  "language_info": {
   "codemirror_mode": {
    "name": "ipython",
    "version": 3
   },
   "file_extension": ".py",
   "mimetype": "text/x-python",
   "name": "python",
   "nbconvert_exporter": "python",
   "pygments_lexer": "ipython3",
   "version": "3.9.5"
  }
 },
 "nbformat": 4,
 "nbformat_minor": 2
}
