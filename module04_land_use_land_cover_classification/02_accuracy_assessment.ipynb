{
 "cells": [
  {
   "cell_type": "code",
   "execution_count": 8,
   "metadata": {},
   "outputs": [
    {
     "data": {
      "text/html": [
       "\n",
       "            <style>\n",
       "                .geemap-dark {\n",
       "                    --jp-widgets-color: white;\n",
       "                    --jp-widgets-label-color: white;\n",
       "                    --jp-ui-font-color1: white;\n",
       "                    --jp-layout-color2: #454545;\n",
       "                    background-color: #383838;\n",
       "                }\n",
       "                    \n",
       "                .geemap-dark .jupyter-button {\n",
       "                    --jp-layout-color3: #383838;\n",
       "                }\n",
       "                \n",
       "                .geemap-colab {\n",
       "                    background-color: var(--colab-primary-surface-color, white);\n",
       "                }\n",
       "                    \n",
       "                .geemap-colab .jupyter-button {\n",
       "                    --jp-layout-color3: var(--colab-primary-surface-color, white);\n",
       "                }\n",
       "            </style>\n",
       "            "
      ],
      "text/plain": [
       "<IPython.core.display.HTML object>"
      ]
     },
     "metadata": {},
     "output_type": "display_data"
    }
   ],
   "source": [
    "### import necessary libraries\n",
    "import ee\n",
    "import json\n",
    "import geemap\n",
    "import sklearn\n",
    "import numpy as np\n",
    "import pandas as pd\n",
    "import geopandas as gpd\n",
    "import matplotlib.pyplot as plt\n",
    "\n",
    "ee.Authenticate()\n",
    "ee.Initialize(project=\"ee-franciscofurey\")"
   ]
  },
  {
   "cell_type": "code",
   "execution_count": 12,
   "metadata": {},
   "outputs": [
    {
     "data": {
      "text/html": [
       "\n",
       "            <style>\n",
       "                .geemap-dark {\n",
       "                    --jp-widgets-color: white;\n",
       "                    --jp-widgets-label-color: white;\n",
       "                    --jp-ui-font-color1: white;\n",
       "                    --jp-layout-color2: #454545;\n",
       "                    background-color: #383838;\n",
       "                }\n",
       "                    \n",
       "                .geemap-dark .jupyter-button {\n",
       "                    --jp-layout-color3: #383838;\n",
       "                }\n",
       "                \n",
       "                .geemap-colab {\n",
       "                    background-color: var(--colab-primary-surface-color, white);\n",
       "                }\n",
       "                    \n",
       "                .geemap-colab .jupyter-button {\n",
       "                    --jp-layout-color3: var(--colab-primary-surface-color, white);\n",
       "                }\n",
       "            </style>\n",
       "            "
      ],
      "text/plain": [
       "<IPython.core.display.HTML object>"
      ]
     },
     "metadata": {},
     "output_type": "display_data"
    },
    {
     "name": "stdout",
     "output_type": "stream",
     "text": [
      "gcp size 447\n",
      "training size 271\n",
      "testing size 176\n",
      "Confusion Matrix [[43, 3, 0, 0], [5, 36, 0, 0], [0, 0, 46, 2], [0, 0, 2, 39]]\n"
     ]
    }
   ],
   "source": [
    "basin = ee.FeatureCollection(\"WWF/HydroSHEDS/v1/Basins/hybas_7\")\n",
    "gcp = ee.FeatureCollection(\"users/ujavalgandhi/e2e/arkavathy_gcps\")\n",
    "s2 = ee.ImageCollection('COPERNICUS/S2_SR_HARMONIZED')\n",
    "\n",
    "print('gcp size',gcp.size().getInfo())\n",
    "\n",
    "# Accuracy Assessment\n",
    "# Split the GCPs into 2 parts randomly\n",
    "# Training Fraction - 60%\n",
    "# Testing Fraction - 40%\n",
    "gcp = gcp.randomColumn()\n",
    "training_gcp = gcp.filter(ee.Filter.lt('random', 0.6))\n",
    "testing_gcp = gcp.filter(ee.Filter.gte('random', 0.6))\n",
    "print('training size',training_gcp.size().getInfo())\n",
    "print('testing size',testing_gcp.size().getInfo())\n",
    "\n",
    "\n",
    "\n",
    "arkavathy = basin.filter(ee.Filter.eq('HYBAS_ID', 4071139640))\n",
    "geometry = arkavathy.geometry()\n",
    "\n",
    "m = geemap.Map()\n",
    "\n",
    "m.centerObject(geometry)\n",
    "\n",
    "rgbVis = {\n",
    "  'min': 0.0,\n",
    "  'max': 3000,\n",
    "  'bands': ['B4', 'B3', 'B2'],\n",
    "}\n",
    "\n",
    "# Filter the image collection.\n",
    "filtered = s2.filter(ee.Filter.lt('CLOUDY_PIXEL_PERCENTAGE', 30))\\\n",
    "    .filter(ee.Filter.date('2019-01-01', '2020-01-01'))\\\n",
    "    .filter(ee.Filter.bounds(geometry))\\\n",
    "    .select('B.*')\n",
    "\n",
    "composite = filtered.median()\n",
    "\n",
    "# Display the input composite.\n",
    "m.addLayer(composite.clip(geometry), rgbVis, 'image')\n",
    "\n",
    "# Overlay the point on the image to get training data.\n",
    "training = composite.sampleRegions(\n",
    "  collection=training_gcp,\n",
    "  properties=['landcover'],\n",
    "  scale=10,\n",
    "  tileScale=8\n",
    "  )\n",
    "\n",
    "# Train a classifier.\n",
    "classifier = ee.Classifier.smileRandomForest(50).train(\n",
    "    features=training,\n",
    "    classProperty='landcover',\n",
    "    inputProperties=composite.bandNames()\n",
    ")\n",
    "\n",
    "# Classify the image.\n",
    "classified = composite.classify(classifier)\n",
    "\n",
    "palette = ['#cc6d8f', '#ffc107', '#1e88e5', '#004d40' ]\n",
    "m.addLayer(classified.clip(geometry), {'min': 0, 'max': 3, 'palette': palette}, '2019')\n",
    "\n",
    "test = classified.sampleRegions(\n",
    "  collection=testing_gcp,\n",
    "  properties=['landcover'],\n",
    "  scale=10,\n",
    "  tileScale=8\n",
    "  )\n",
    "\n",
    "confusion_metrix = test.errorMatrix('landcover', 'classification')\n",
    "print('Confusion Matrix', confusion_metrix.getInfo())"
   ]
  },
  {
   "cell_type": "code",
   "execution_count": 15,
   "metadata": {},
   "outputs": [
    {
     "data": {
      "text/html": [
       "\n",
       "            <style>\n",
       "                .geemap-dark {\n",
       "                    --jp-widgets-color: white;\n",
       "                    --jp-widgets-label-color: white;\n",
       "                    --jp-ui-font-color1: white;\n",
       "                    --jp-layout-color2: #454545;\n",
       "                    background-color: #383838;\n",
       "                }\n",
       "                    \n",
       "                .geemap-dark .jupyter-button {\n",
       "                    --jp-layout-color3: #383838;\n",
       "                }\n",
       "                \n",
       "                .geemap-colab {\n",
       "                    background-color: var(--colab-primary-surface-color, white);\n",
       "                }\n",
       "                    \n",
       "                .geemap-colab .jupyter-button {\n",
       "                    --jp-layout-color3: var(--colab-primary-surface-color, white);\n",
       "                }\n",
       "            </style>\n",
       "            "
      ],
      "text/plain": [
       "<IPython.core.display.HTML object>"
      ]
     },
     "metadata": {},
     "output_type": "display_data"
    },
    {
     "name": "stdout",
     "output_type": "stream",
     "text": [
      "Producer's Accuracy: [[0.9347826086956522], [0.8780487804878049], [0.9583333333333334], [0.9512195121951219]]\n",
      "Consumer's Accuracy: [[0.8958333333333334, 0.9230769230769231, 0.9583333333333334, 0.9512195121951219]]\n",
      "F1 Score: [0.9148936170212766, 0.9, 0.9583333333333334, 0.9512195121951219]\n"
     ]
    }
   ],
   "source": [
    "# Calculate Producer's Accuracy\n",
    "producer_accuracy = confusion_metrix.producersAccuracy()\n",
    "\n",
    "# Calculate Consumer's Accuracy\n",
    "consumer_accuracy = confusion_metrix.consumersAccuracy()\n",
    "\n",
    "# Calculate F1 Score\n",
    "f1_score = confusion_metrix.fscore()\n",
    "\n",
    "# Print the assessment metrics\n",
    "print(\"Producer's Accuracy:\", producer_accuracy.getInfo())\n",
    "print(\"Consumer's Accuracy:\", consumer_accuracy.getInfo())\n",
    "print(\"F1 Score:\", f1_score.getInfo())"
   ]
  },
  {
   "cell_type": "code",
   "execution_count": null,
   "metadata": {},
   "outputs": [],
   "source": []
  },
  {
   "cell_type": "code",
   "execution_count": null,
   "metadata": {},
   "outputs": [],
   "source": []
  },
  {
   "cell_type": "code",
   "execution_count": null,
   "metadata": {},
   "outputs": [],
   "source": []
  }
 ],
 "metadata": {
  "kernelspec": {
   "display_name": "spatial_thoughts",
   "language": "python",
   "name": "spatial_thoughts"
  },
  "language_info": {
   "codemirror_mode": {
    "name": "ipython",
    "version": 3
   },
   "file_extension": ".py",
   "mimetype": "text/x-python",
   "name": "python",
   "nbconvert_exporter": "python",
   "pygments_lexer": "ipython3",
   "version": "3.9.5"
  }
 },
 "nbformat": 4,
 "nbformat_minor": 2
}
