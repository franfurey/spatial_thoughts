{
 "cells": [
  {
   "cell_type": "code",
   "execution_count": 1,
   "metadata": {},
   "outputs": [],
   "source": [
    "### import necessary libraries\n",
    "import os\n",
    "import ee\n",
    "import sys\n",
    "import json\n",
    "import geemap\n",
    "import sklearn\n",
    "import numpy as np\n",
    "import pandas as pd\n",
    "import geopandas as gpd\n",
    "from pprint import pprint\n",
    "import matplotlib.pyplot as plt\n",
    "\n",
    "# Sube un nivel en la estructura de directorios para llegar a la raíz del proyecto\n",
    "sys.path.insert(0, os.path.abspath(os.path.join(os.getcwd(), '..')))\n",
    "\n",
    "# Ahora puedes importar la función refined_lee\n",
    "from utils.refined_lee import refined_lee\n",
    "\n",
    "ee.Authenticate()\n",
    "ee.Initialize(project=\"ee-franciscofurey\")"
   ]
  },
  {
   "cell_type": "code",
   "execution_count": 2,
   "metadata": {},
   "outputs": [
    {
     "data": {
      "text/html": [
       "\n",
       "            <style>\n",
       "                .geemap-dark {\n",
       "                    --jp-widgets-color: white;\n",
       "                    --jp-widgets-label-color: white;\n",
       "                    --jp-ui-font-color1: white;\n",
       "                    --jp-layout-color2: #454545;\n",
       "                    background-color: #383838;\n",
       "                }\n",
       "\n",
       "                .geemap-dark .jupyter-button {\n",
       "                    --jp-layout-color3: #383838;\n",
       "                }\n",
       "\n",
       "                .geemap-colab {\n",
       "                    background-color: var(--colab-primary-surface-color, white);\n",
       "                }\n",
       "\n",
       "                .geemap-colab .jupyter-button {\n",
       "                    --jp-layout-color3: var(--colab-primary-surface-color, white);\n",
       "                }\n",
       "            </style>\n",
       "            "
      ],
      "text/plain": [
       "<IPython.core.display.HTML object>"
      ]
     },
     "metadata": {},
     "output_type": "display_data"
    }
   ],
   "source": [
    "\n",
    "# Define dates\n",
    "before_start = '2018-07-15'\n",
    "before_end = '2018-08-10'\n",
    "after_start = '2018-08-10'\n",
    "after_end = '2018-08-23'\n",
    "\n",
    "admin2 = ee.FeatureCollection(\"FAO/GAUL_SIMPLIFIED_500m/2015/level2\")\n",
    "ernakulam = admin2.filter(ee.Filter.eq('ADM2_NAME', 'Ernakulam'))\n",
    "s1 = ee.ImageCollection(\"COPERNICUS/S1_GRD\")\n",
    "geometry = ernakulam.geometry()\n",
    "Map = geemap.Map()\n",
    "# Load the Ernakulam district geometry\n",
    "Map.addLayer(geometry, {'color': 'grey'}, 'Ernakulam District')\n",
    "\n",
    "# Filter the image collection\n",
    "collection = ee.ImageCollection('COPERNICUS/S1_GRD')\\\n",
    "    .filter(ee.Filter.eq('instrumentMode', 'IW'))\\\n",
    "    .filter(ee.Filter.listContains('transmitterReceiverPolarisation', 'VH'))\\\n",
    "    .filter(ee.Filter.eq('orbitProperties_pass', 'DESCENDING'))\\\n",
    "    .filter(ee.Filter.eq('resolution_meters', 10))\\\n",
    "    .filter(ee.Filter.bounds(geometry))\\\n",
    "    .select('VH')\n",
    "\n",
    "# Filter collections for before and after the specified dates\n",
    "before_collection = collection.filter(ee.Filter.date(before_start, before_end))\n",
    "after_collection = collection.filter(ee.Filter.date(after_start, after_end))\n",
    "\n",
    "# Mosaic and clip images\n",
    "before = before_collection.mosaic().clip(geometry)\n",
    "after = after_collection.mosaic().clip(geometry)\n",
    "\n",
    "# Center map and add layers\n",
    "Map.centerObject(geometry, 10)\n",
    "Map.addLayer(before, {'min': -25, 'max': 0}, 'Before Floods', False)\n",
    "Map.addLayer(after, {'min': -25, 'max': 0}, 'After Floods', False)\n",
    "\n",
    "# Refined Lee Filter (Kernel)\n",
    "\n",
    "# Speckle Filtering Functions\n",
    "def to_natural(img):\n",
    "    return ee.Image(10.0).pow(img.select(0).divide(10.0))\n",
    "\n",
    "def to_db(img):\n",
    "    return ee.Image(img).log10().multiply(10.0)\n",
    "\n",
    "before_filtered = ee.Image(to_db(refined_lee(to_natural(before))))\n",
    "after_filtered = ee.Image(to_db(refined_lee(to_natural(after))))\n",
    "\n",
    "Map.addLayer(before_filtered, {'min': -25, 'max': 0}, 'Before Floods Filtered', False)\n",
    "Map.addLayer(after_filtered, {'min': -25, 'max': 0}, 'After Floods Filtered', False)\n",
    "\n",
    "# Exercise\n",
    "# A simple method for filtering speckles is using a focal median filter\n",
    "# Apply a Focal Median filter on both before and after images\n",
    "# Use a Circle kernel with a 30 meter radius\n",
    "# Add the filtered images to the map\n",
    "# Hint: Use the foal_median() function\n",
    "\n",
    "# Apply Focal Median filter on before image\n",
    "before_filtered = before.focal_median(radius=30, units='meters')\n",
    "\n",
    "# Apply Focal Median filter on after image\n",
    "after_filtered = after.focal_median(radius=30, units='meters')\n",
    "\n",
    "# Add filtered images to the map\n",
    "Map.addLayer(before_filtered, {'min': -25, 'max': 0}, 'Before Floods Filtered', False)\n",
    "Map.addLayer(after_filtered, {'min': -25, 'max': 0}, 'After Floods Filtered', False)\n",
    "\n",
    "\n",
    "difference = after_filtered.divide(before_filtered)\n",
    "diff_threshold = 1.25\n",
    "# Initial Estimate\n",
    "flooded = difference.gt(diff_threshold).selfMask()\n",
    "# Add layers to the map\n",
    "Map.addLayer(flooded, {'palette': 'orange'}, 'Initial Flooded Areas')\n"
   ]
  },
  {
   "cell_type": "code",
   "execution_count": 16,
   "metadata": {},
   "outputs": [
    {
     "data": {
      "text/html": [
       "\n",
       "            <style>\n",
       "                .geemap-dark {\n",
       "                    --jp-widgets-color: white;\n",
       "                    --jp-widgets-label-color: white;\n",
       "                    --jp-ui-font-color1: white;\n",
       "                    --jp-layout-color2: #454545;\n",
       "                    background-color: #383838;\n",
       "                }\n",
       "\n",
       "                .geemap-dark .jupyter-button {\n",
       "                    --jp-layout-color3: #383838;\n",
       "                }\n",
       "\n",
       "                .geemap-colab {\n",
       "                    background-color: var(--colab-primary-surface-color, white);\n",
       "                }\n",
       "\n",
       "                .geemap-colab .jupyter-button {\n",
       "                    --jp-layout-color3: var(--colab-primary-surface-color, white);\n",
       "                }\n",
       "            </style>\n",
       "            "
      ],
      "text/plain": [
       "<IPython.core.display.HTML object>"
      ]
     },
     "metadata": {},
     "output_type": "display_data"
    }
   ],
   "source": [
    "# Lets apply masks\n",
    "\n",
    "# Mask Permanent Water\n",
    "gsw = ee.Image(\"JRC/GSW1_4/GlobalSurfaceWater\")\n",
    "permanent_water = gsw.select('seasonality').gte(5).clip(geometry)\n",
    "\n",
    "# Mask - Pixel 1 will be retained, pizel 0 will be removed\n",
    "permanent_water_mask = permanent_water.unmask(0).Not()\n",
    "\n",
    "flooded = flooded.updateMask(permanent_water_mask)\n",
    "\n",
    "# Mask out areas with more than 5 percent slope using the HydroSHEDS DEM\n",
    "hydrosheds = ee.Image('WWF/HydroSHEDS/03VFDEM')\n",
    "terrain = ee.Algorithms.Terrain(hydrosheds)\n",
    "slope = terrain.select('slope')\n",
    "slope_threshold = 5\n",
    "steep_areas = slope.gt(slope_threshold)\n",
    "\n",
    "Map.addLayer(steep_areas.selfMask(), {'palette': 'cyan'}, 'Steep Areas')\n",
    "\n",
    "slope_mask = steep_areas.Not()\n",
    "flooded = flooded.updateMask(slope_mask)\n",
    "\n",
    "# Remove isolated Pixel\n",
    "connected_pixel_threshold = 8\n",
    "connections = flooded.connectedPixelCount(25)\n",
    "disconnected_areas = connections.lt(connected_pixel_threshold)\n",
    "Map.addLayer(disconnected_areas.selfMask(), { min:0, max:1, 'palette': 'yellow'}, 'Disconnected Areas')\n",
    "\n",
    "# Mask disconnected areas\n",
    "flooded = flooded.updateMask(disconnected_areas.Not())\n",
    "\n",
    "# Apply a crop Mask to asses flood damage to crops\n",
    "# Use th ESa WorldCover data to extract cropland\n",
    "dataset = ee.ImageCollection('ESA/WorldCover/v100').first()\n",
    "classification = dataset.select('Map').clip(geometry)\n",
    "cropland = classification.eq(40)\n",
    "Map.addLayer(cropland.selfMask(), {min:0, max:1,'palette': 'green'}, 'Cropland')\n",
    "\n",
    "# Mask all nonn-cropland areas and display flooded regions\n",
    "flooded = flooded.updateMask(cropland)\n",
    "#Add to map\n",
    "Map.addLayer(flooded, {min:0,max:1,'palette': 'red'}, 'Flooded')"
   ]
  },
  {
   "cell_type": "code",
   "execution_count": null,
   "metadata": {},
   "outputs": [],
   "source": []
  },
  {
   "cell_type": "code",
   "execution_count": null,
   "metadata": {},
   "outputs": [],
   "source": []
  },
  {
   "cell_type": "code",
   "execution_count": 4,
   "metadata": {},
   "outputs": [
    {
     "data": {
      "text/html": [
       "\n",
       "            <style>\n",
       "                .geemap-dark {\n",
       "                    --jp-widgets-color: white;\n",
       "                    --jp-widgets-label-color: white;\n",
       "                    --jp-ui-font-color1: white;\n",
       "                    --jp-layout-color2: #454545;\n",
       "                    background-color: #383838;\n",
       "                }\n",
       "\n",
       "                .geemap-dark .jupyter-button {\n",
       "                    --jp-layout-color3: #383838;\n",
       "                }\n",
       "\n",
       "                .geemap-colab {\n",
       "                    background-color: var(--colab-primary-surface-color, white);\n",
       "                }\n",
       "\n",
       "                .geemap-colab .jupyter-button {\n",
       "                    --jp-layout-color3: var(--colab-primary-surface-color, white);\n",
       "                }\n",
       "            </style>\n",
       "            "
      ],
      "text/plain": [
       "<IPython.core.display.HTML object>"
      ]
     },
     "metadata": {},
     "output_type": "display_data"
    },
    {
     "data": {
      "application/vnd.jupyter.widget-view+json": {
       "model_id": "c2bf4a285ef84f18b9c5e32042f6794f",
       "version_major": 2,
       "version_minor": 0
      },
      "text/plain": [
       "Map(center=[10.055341788485276, 76.46953395211857], controls=(WidgetControl(options=['position', 'transparent_…"
      ]
     },
     "execution_count": 4,
     "metadata": {},
     "output_type": "execute_result"
    }
   ],
   "source": [
    "Map"
   ]
  },
  {
   "cell_type": "code",
   "execution_count": null,
   "metadata": {},
   "outputs": [],
   "source": []
  }
 ],
 "metadata": {
  "kernelspec": {
   "display_name": "spatial_thoughts",
   "language": "python",
   "name": "projectname_venv"
  },
  "language_info": {
   "codemirror_mode": {
    "name": "ipython",
    "version": 3
   },
   "file_extension": ".py",
   "mimetype": "text/x-python",
   "name": "python",
   "nbconvert_exporter": "python",
   "pygments_lexer": "ipython3",
   "version": "3.11.8"
  }
 },
 "nbformat": 4,
 "nbformat_minor": 2
}
