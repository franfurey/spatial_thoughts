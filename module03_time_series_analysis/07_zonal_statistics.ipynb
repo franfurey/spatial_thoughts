{
 "cells": [
  {
   "cell_type": "code",
   "execution_count": 1,
   "metadata": {},
   "outputs": [],
   "source": [
    "### import necessary libraries\n",
    "import ee\n",
    "import geemap\n",
    "import sklearn\n",
    "import geopandas as gpd\n",
    "import numpy as np\n",
    "import matplotlib.pyplot as plt\n",
    "import pandas as pd\n",
    "import json\n",
    "\n",
    "ee.Authenticate()\n",
    "ee.Initialize(project=\"ee-franciscofurey\")"
   ]
  },
  {
   "cell_type": "code",
   "execution_count": 12,
   "metadata": {},
   "outputs": [
    {
     "data": {
      "text/html": [
       "\n",
       "            <style>\n",
       "                .geemap-dark {\n",
       "                    --jp-widgets-color: white;\n",
       "                    --jp-widgets-label-color: white;\n",
       "                    --jp-ui-font-color1: white;\n",
       "                    --jp-layout-color2: #454545;\n",
       "                    background-color: #383838;\n",
       "                }\n",
       "                    \n",
       "                .geemap-dark .jupyter-button {\n",
       "                    --jp-layout-color3: #383838;\n",
       "                }\n",
       "                \n",
       "                .geemap-colab {\n",
       "                    background-color: var(--colab-primary-surface-color, white);\n",
       "                }\n",
       "                    \n",
       "                .geemap-colab .jupyter-button {\n",
       "                    --jp-layout-color3: var(--colab-primary-surface-color, white);\n",
       "                }\n",
       "            </style>\n",
       "            "
      ],
      "text/plain": [
       "<IPython.core.display.HTML object>"
      ]
     },
     "metadata": {},
     "output_type": "display_data"
    },
    {
     "data": {
      "application/vnd.jupyter.widget-view+json": {
       "model_id": "0cf47244fa114820a99d741e95f9cde8",
       "version_major": 2,
       "version_minor": 0
      },
      "text/plain": [
       "Map(center=[0, 0], controls=(WidgetControl(options=['position', 'transparent_bg'], widget=SearchDataGUI(childr…"
      ]
     },
     "metadata": {},
     "output_type": "display_data"
    }
   ],
   "source": [
    "# Assuming you've already authenticated and initialized Earth Engine\n",
    "taluks = ee.FeatureCollection(\"users/ujavalgandhi/gee-water-resources/kgis_taluks\")\n",
    "chirps = ee.ImageCollection('UCSB-CHG/CHIRPS/PENTAD')\n",
    "\n",
    "year = 2019\n",
    "startDate = ee.Date.fromYMD(year=year, month=1, day=1)  # Use keyword arguments for clarity\n",
    "endDate = startDate.advance(1, 'year')\n",
    "\n",
    "Map = geemap.Map()\n",
    "\n",
    "filtered = chirps.filter(ee.Filter.date(start=startDate, end=endDate))\n",
    "\n",
    "# Calculate the total rainfall for the year\n",
    "total = filtered.reduce(reducer=ee.Reducer.sum())\n",
    "\n",
    "# Display the total rainfall image.\n",
    "palette = ['#ffffcc', '#a1dab4', '#41b6c4', '#2c7fb8', '#253494']\n",
    "visParams = {\n",
    "    'min': 0,\n",
    "    'max': 2000,\n",
    "    'palette': palette\n",
    "}\n",
    "\n",
    "Map.centerObject(ee_object=taluks)\n",
    "Map.addLayer(total, vis_params=visParams, name='Total Precipitation')\n",
    "Map.addLayer(taluks, vis_params={'color': 'grey'}, name='Taluks')\n",
    "\n",
    "\n",
    "# reduceRegion()\n",
    "results = total.reduceRegions(\n",
    "    collection = taluks,\n",
    "    reducer=ee.Reducer.mean(),\n",
    "    scale=5566,\n",
    "    )\n",
    "\n",
    "\n",
    "info = results.first().getInfo()\n",
    "#print(json.dumps(info, indent=2))\n",
    "\n",
    "\n",
    "\n",
    "\n",
    "Map.addLayer(results, vis_params={'color': 'red'}, name='Mean Precipitation')\n",
    "display(Map)\n"
   ]
  },
  {
   "cell_type": "code",
   "execution_count": 13,
   "metadata": {},
   "outputs": [
    {
     "data": {
      "text/html": [
       "\n",
       "            <style>\n",
       "                .geemap-dark {\n",
       "                    --jp-widgets-color: white;\n",
       "                    --jp-widgets-label-color: white;\n",
       "                    --jp-ui-font-color1: white;\n",
       "                    --jp-layout-color2: #454545;\n",
       "                    background-color: #383838;\n",
       "                }\n",
       "                    \n",
       "                .geemap-dark .jupyter-button {\n",
       "                    --jp-layout-color3: #383838;\n",
       "                }\n",
       "                \n",
       "                .geemap-colab {\n",
       "                    background-color: var(--colab-primary-surface-color, white);\n",
       "                }\n",
       "                    \n",
       "                .geemap-colab .jupyter-button {\n",
       "                    --jp-layout-color3: var(--colab-primary-surface-color, white);\n",
       "                }\n",
       "            </style>\n",
       "            "
      ],
      "text/plain": [
       "<IPython.core.display.HTML object>"
      ]
     },
     "metadata": {},
     "output_type": "display_data"
    }
   ],
   "source": [
    "# Select the columns and rename them\n",
    "exportCol = results.select(['KGISTalukN', 'mean'], ['taluk', 'average_rainfall'])\n",
    "\n",
    "# Export the exportCol as a CSV\n",
    "task = ee.batch.Export.table.toDrive(\n",
    "    collection=exportCol,\n",
    "    description='Average Rainfall CSV',\n",
    "    fileFormat='CSV',\n",
    "    selectors=['taluk', 'average_rainfall']\n",
    ")\n",
    "\n",
    "# Start the export task\n",
    "task.start()"
   ]
  },
  {
   "cell_type": "code",
   "execution_count": null,
   "metadata": {},
   "outputs": [],
   "source": []
  }
 ],
 "metadata": {
  "kernelspec": {
   "display_name": "venv",
   "language": "python",
   "name": "python3"
  },
  "language_info": {
   "codemirror_mode": {
    "name": "ipython",
    "version": 3
   },
   "file_extension": ".py",
   "mimetype": "text/x-python",
   "name": "python",
   "nbconvert_exporter": "python",
   "pygments_lexer": "ipython3",
   "version": "3.9.5"
  }
 },
 "nbformat": 4,
 "nbformat_minor": 2
}
